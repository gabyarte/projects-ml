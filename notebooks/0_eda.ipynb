{
 "cells": [
  {
   "cell_type": "code",
   "execution_count": null,
   "metadata": {},
   "outputs": [],
   "source": [
    "%load_ext autoreload\n",
    "%autoreload 2"
   ]
  },
  {
   "cell_type": "code",
   "execution_count": null,
   "metadata": {},
   "outputs": [],
   "source": [
    "import pandas as pd\n",
    "\n",
    "from utils.constants import RAW_DIR\n",
    "from utils.dataload import load_data\n",
    "from utils.display import rdisplay"
   ]
  },
  {
   "cell_type": "code",
   "execution_count": null,
   "metadata": {},
   "outputs": [],
   "source": [
    "train_df = load_data(RAW_DIR / 'train.csv', load_func=pd.read_csv)\n",
    "test_df = load_data(RAW_DIR / 'test.csv', load_func=pd.read_csv)"
   ]
  },
  {
   "cell_type": "code",
   "execution_count": null,
   "metadata": {},
   "outputs": [],
   "source": [
    "train_df.head()"
   ]
  },
  {
   "attachments": {},
   "cell_type": "markdown",
   "metadata": {},
   "source": [
    "## Check variables with same values"
   ]
  },
  {
   "cell_type": "code",
   "execution_count": null,
   "metadata": {},
   "outputs": [],
   "source": [
    "train_df['hogar_total'].eq(train_df['tamhog']).all()"
   ]
  },
  {
   "cell_type": "code",
   "execution_count": null,
   "metadata": {},
   "outputs": [],
   "source": [
    "train_df[['hogar_total', 'tamhog']].value_counts(dropna=False)"
   ]
  },
  {
   "attachments": {},
   "cell_type": "markdown",
   "metadata": {},
   "source": [
    "## Check NaN variables"
   ]
  },
  {
   "cell_type": "code",
   "execution_count": null,
   "metadata": {},
   "outputs": [],
   "source": [
    "train_df.isna().sum()[train_df.isna().sum() > 0]"
   ]
  },
  {
   "cell_type": "code",
   "execution_count": null,
   "metadata": {},
   "outputs": [],
   "source": [
    "# Given that v18q1 is NaN when v18q is 0 because of the survey design, then\n",
    "# it's a valid strategy to fill it with 0 (meaning absense of tablets)\n",
    "train_df[['v18q', 'v18q1']].value_counts(dropna=False)"
   ]
  },
  {
   "cell_type": "code",
   "execution_count": null,
   "metadata": {},
   "outputs": [],
   "source": [
    "# The mean education and the squared mean education are related, so the Nan\n",
    "# values are found in the same observations. A good imputation strategy \n",
    "# `sqbmeaned` is to solve NaN in `meaneduc` and then square the values\n",
    "train_df.loc[\n",
    "    train_df['meaneduc'].isna(),\n",
    "    ['meaneduc', 'sqbmeaned']\n",
    "].value_counts(dropna=False)"
   ]
  },
  {
   "cell_type": "code",
   "execution_count": null,
   "metadata": {},
   "outputs": [],
   "source": [
    "train_df.loc[\n",
    "    train_df['meaneduc'].isna(),\n",
    "    ['escolari', 'age', 'idhogar']\n",
    "].value_counts(dropna=False)"
   ]
  },
  {
   "cell_type": "code",
   "execution_count": null,
   "metadata": {},
   "outputs": [],
   "source": [
    "# It doesn't seem to be any reason for the NaN values\n",
    "train_df.loc[\n",
    "    train_df['idhogar'].isin(['faaebf71a', 'a874b7ce7', '1b31fd159']),\n",
    "    ['idhogar', 'escolari', 'age', 'meaneduc']\n",
    "]"
   ]
  },
  {
   "cell_type": "code",
   "execution_count": null,
   "metadata": {},
   "outputs": [],
   "source": [
    "# Because this match the right value of `meaneduc` for this household, then\n",
    "# the NaN values in `meaneduc` will be calculated as the mean of `escolari`\n",
    "train_df.loc[\n",
    "    train_df['idhogar'].isin(['fff7d6be1']),\n",
    "    ['escolari']\n",
    "].mean()"
   ]
  },
  {
   "cell_type": "code",
   "execution_count": null,
   "metadata": {},
   "outputs": [],
   "source": [
    "# Given that `rez_esc` only state the amount of years the individual has\n",
    "# delayed in their education, if it is NaN, then it could be set to 0\n",
    "rdisplay(train_df[['rez_esc', 'escolari']] \\\n",
    "    .value_counts(dropna=False)\\\n",
    "    .sort_index())"
   ]
  },
  {
   "cell_type": "code",
   "execution_count": null,
   "metadata": {},
   "outputs": [],
   "source": [
    "# All the people that owned and already paid for their household or have other\n",
    "# type of property, don't have any monthly rent set. In this case, we can\n",
    "# easily impute a 0 in NaN places.\n",
    "train_df.loc[\n",
    "    train_df['v2a1'].isna(),\n",
    "    ['v2a1', 'tipovivi1', 'tipovivi2', 'tipovivi3', 'tipovivi4', 'tipovivi5']\n",
    "].value_counts(dropna=False).sort_index()"
   ]
  },
  {
   "cell_type": "code",
   "execution_count": null,
   "metadata": {},
   "outputs": [],
   "source": [
    "train_df[\n",
    "    ['tipovivi1', 'tipovivi2', 'tipovivi3', 'tipovivi4', 'tipovivi5']\n",
    "].value_counts(dropna=False).sort_index()"
   ]
  },
  {
   "attachments": {},
   "cell_type": "markdown",
   "metadata": {},
   "source": [
    "## Check household variables"
   ]
  },
  {
   "cell_type": "code",
   "execution_count": null,
   "metadata": {},
   "outputs": [],
   "source": [
    "train_df[['dis', 'male', 'female']].value_counts(dropna=False)"
   ]
  },
  {
   "cell_type": "code",
   "execution_count": null,
   "metadata": {},
   "outputs": [],
   "source": [
    "train_df[['qmobilephone']].value_counts(dropna=False).sort_index()"
   ]
  },
  {
   "cell_type": "code",
   "execution_count": null,
   "metadata": {},
   "outputs": [],
   "source": [
    "train_df[['idhogar', 'qmobilephone']].value_counts(dropna=True).sort_index()"
   ]
  },
  {
   "attachments": {},
   "cell_type": "markdown",
   "metadata": {},
   "source": [
    "## Check variable with labels `yes` or `no` instead of numbers"
   ]
  },
  {
   "cell_type": "code",
   "execution_count": null,
   "metadata": {},
   "outputs": [],
   "source": [
    "columns = train_df.isin(['yes', 'no']).any(axis=0)\n",
    "columns[columns]"
   ]
  },
  {
   "cell_type": "code",
   "execution_count": null,
   "metadata": {},
   "outputs": [],
   "source": [
    "train_df['dependency'].value_counts()"
   ]
  }
 ],
 "metadata": {
  "kernelspec": {
   "display_name": "Python 3.10.8 ('project-ml')",
   "language": "python",
   "name": "python3"
  },
  "language_info": {
   "codemirror_mode": {
    "name": "ipython",
    "version": 3
   },
   "file_extension": ".py",
   "mimetype": "text/x-python",
   "name": "python",
   "nbconvert_exporter": "python",
   "pygments_lexer": "ipython3",
   "version": "3.10.8"
  },
  "orig_nbformat": 4,
  "vscode": {
   "interpreter": {
    "hash": "2e383f59990fe3d22651a4ad07083daaaf731c9d2ac6275b8fedb86f5101aa90"
   }
  }
 },
 "nbformat": 4,
 "nbformat_minor": 2
}
