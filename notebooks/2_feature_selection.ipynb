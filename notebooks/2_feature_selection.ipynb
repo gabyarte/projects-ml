{
 "cells": [
  {
   "cell_type": "code",
   "execution_count": null,
   "metadata": {},
   "outputs": [],
   "source": [
    "%load_ext autoreload\n",
    "%autoreload 2"
   ]
  },
  {
   "cell_type": "code",
   "execution_count": null,
   "metadata": {},
   "outputs": [],
   "source": [
    "import pandas as pd\n",
    "import numpy as np\n",
    "\n",
    "from sklearn.pipeline import make_pipeline\n",
    "from sklearn.feature_selection import (chi2, mutual_info_classif,\n",
    "    SequentialFeatureSelector)\n",
    "\n",
    "from utils.constants import STAGE_DIR\n",
    "from utils.dataload import load_data\n",
    "from utils.display import cdisplay\n",
    "from utils.plots import plot_features_scores\n",
    "from utils.transformers import SelectKBestTransformer, ReliefFTransformer"
   ]
  },
  {
   "cell_type": "code",
   "execution_count": null,
   "metadata": {},
   "outputs": [],
   "source": [
    "X_train = load_data(STAGE_DIR / 'preprocess' / 'X_train.parquet', load_func=pd.read_parquet)\n",
    "X_test = load_data(STAGE_DIR / 'preprocess' / 'X_test.parquet', load_func=pd.read_parquet)\n",
    "y = load_data(STAGE_DIR / 'preprocess' / 'y.parquet', load_func=pd.read_parquet)"
   ]
  },
  {
   "attachments": {},
   "cell_type": "markdown",
   "metadata": {},
   "source": [
    "# Univariate feature selection"
   ]
  },
  {
   "attachments": {},
   "cell_type": "markdown",
   "metadata": {},
   "source": [
    "## Chi-squared $\\chi^2$"
   ]
  },
  {
   "cell_type": "code",
   "execution_count": null,
   "metadata": {},
   "outputs": [],
   "source": [
    "univariate_selection_1 = SelectKBestTransformer(chi2, k=40)\n",
    "univariate_selection_1 = univariate_selection_1.fit(X_train, y)\n",
    "univariate_features_train_1 = univariate_selection_1.transform(X_train)\n",
    "univariate_features_test_1 = univariate_selection_1.transform(X_test)"
   ]
  },
  {
   "cell_type": "code",
   "execution_count": null,
   "metadata": {},
   "outputs": [],
   "source": [
    "scores_1 = univariate_selection_1.pvalues_\n",
    "plot_features_scores(X_train, scores_1, metric_label=r'$p_{value}$')"
   ]
  },
  {
   "attachments": {},
   "cell_type": "markdown",
   "metadata": {},
   "source": [
    "## Mutual information"
   ]
  },
  {
   "cell_type": "code",
   "execution_count": null,
   "metadata": {},
   "outputs": [],
   "source": [
    "univariate_selection_2 = SelectKBestTransformer(mutual_info_classif, k=100)\n",
    "univariate_selection_2 = univariate_selection_2.fit(X_train, y['y'])\n",
    "univariate_features_train_2 = univariate_selection_2.transform(X_train)\n",
    "univariate_features_test_2 = univariate_selection_2.transform(X_test)"
   ]
  },
  {
   "cell_type": "code",
   "execution_count": null,
   "metadata": {},
   "outputs": [],
   "source": [
    "scores_2 = univariate_selection_2.scores_\n",
    "plot_features_scores(X_train, scores_2, metric_label=r'mutual information')"
   ]
  },
  {
   "attachments": {},
   "cell_type": "markdown",
   "metadata": {},
   "source": [
    "# Multivariate feature selection"
   ]
  },
  {
   "cell_type": "code",
   "execution_count": null,
   "metadata": {},
   "outputs": [],
   "source": [
    "multivariate_selection = ReliefFTransformer(n_features_to_keep=100)\n",
    "multivariate_selection.fit(X_train, y)\n",
    "multivariate_features_train = multivariate_selection.transform(X_train)\n",
    "multivariate_features_test = multivariate_selection.transform(X_test)"
   ]
  },
  {
   "cell_type": "code",
   "execution_count": null,
   "metadata": {},
   "outputs": [],
   "source": [
    "plot_features_scores(X_train, multivariate_selection.feature_scores, method='multivariate', metric_label='Relief')"
   ]
  },
  {
   "attachments": {},
   "cell_type": "markdown",
   "metadata": {},
   "source": [
    "# Save selected datasets"
   ]
  },
  {
   "cell_type": "code",
   "execution_count": null,
   "metadata": {},
   "outputs": [],
   "source": [
    "univariate_features_train_1.to_parquet(STAGE_DIR / 'selection' / 'X_train_x2.parquet')\n",
    "univariate_features_test_1.to_parquet(STAGE_DIR / 'selection' / 'X_test_x2.parquet')"
   ]
  },
  {
   "cell_type": "code",
   "execution_count": null,
   "metadata": {},
   "outputs": [],
   "source": [
    "univariate_features_train_2.to_parquet(STAGE_DIR / 'selection' / 'X_train_mi.parquet')\n",
    "univariate_features_test_2.to_parquet(STAGE_DIR / 'selection' / 'X_test_mi.parquet')"
   ]
  },
  {
   "cell_type": "code",
   "execution_count": null,
   "metadata": {},
   "outputs": [],
   "source": [
    "multivariate_features_train.to_parquet(STAGE_DIR / 'selection' / 'X_train_relief.parquet')\n",
    "multivariate_features_test.to_parquet(STAGE_DIR / 'selection' / 'X_test_relief.parquet')"
   ]
  }
 ],
 "metadata": {
  "kernelspec": {
   "display_name": "project-ml",
   "language": "python",
   "name": "python3"
  },
  "language_info": {
   "codemirror_mode": {
    "name": "ipython",
    "version": 3
   },
   "file_extension": ".py",
   "mimetype": "text/x-python",
   "name": "python",
   "nbconvert_exporter": "python",
   "pygments_lexer": "ipython3",
   "version": "3.10.8"
  },
  "orig_nbformat": 4,
  "vscode": {
   "interpreter": {
    "hash": "2e383f59990fe3d22651a4ad07083daaaf731c9d2ac6275b8fedb86f5101aa90"
   }
  }
 },
 "nbformat": 4,
 "nbformat_minor": 2
}
