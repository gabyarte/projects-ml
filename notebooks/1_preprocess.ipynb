{
 "cells": [
  {
   "cell_type": "code",
   "execution_count": 1,
   "metadata": {},
   "outputs": [],
   "source": [
    "%load_ext autoreload\n",
    "%autoreload 2"
   ]
  },
  {
   "cell_type": "markdown",
   "metadata": {},
   "source": [
    "# Preprocess\n",
    "\n",
    "In the preprocessing of the raw dataset, the variables are transformed to the real input of each model."
   ]
  },
  {
   "cell_type": "code",
   "execution_count": 13,
   "metadata": {},
   "outputs": [],
   "source": [
    "import pandas as pd\n",
    "\n",
    "import preprocess.preprocess as pre\n",
    "\n",
    "from sklearn.pipeline import make_pipeline\n",
    "\n",
    "from utils.constants import RAW_DIR\n",
    "from utils.dataload import load_data\n",
    "from utils.functions import inspect_nulls\n",
    "from utils.transformers import NameTransformer, AssignTransformer"
   ]
  },
  {
   "cell_type": "code",
   "execution_count": 3,
   "metadata": {},
   "outputs": [],
   "source": [
    "train_df = load_data(RAW_DIR / 'train.csv', load_func=pd.read_csv)\n",
    "test_df = load_data(RAW_DIR / 'test.csv', load_func=pd.read_csv)"
   ]
  },
  {
   "cell_type": "markdown",
   "metadata": {},
   "source": [
    "## Transformers\n",
    "Each of the following transformers has the objective to processed the dataframe to turn it suitable for training machine learning models. The steps in the pipeline are:\n",
    "* `NameTransformer`: Transforms column names into readable variable names"
   ]
  },
  {
   "cell_type": "code",
   "execution_count": 9,
   "metadata": {},
   "outputs": [],
   "source": [
    "name_transformer = NameTransformer(pre.NAMES_MAP, pre.KEEP_FEATURES)\n",
    "\n",
    "assign_transformer = AssignTransformer(pre.ASSIGN_MAP)"
   ]
  },
  {
   "cell_type": "code",
   "execution_count": 5,
   "metadata": {},
   "outputs": [],
   "source": [
    "pipeline = make_pipeline(\n",
    "    name_transformer,\n",
    "    assign_transformer\n",
    ")"
   ]
  },
  {
   "cell_type": "markdown",
   "metadata": {},
   "source": [
    "## Run preprocessing"
   ]
  },
  {
   "cell_type": "markdown",
   "metadata": {},
   "source": [
    "### NameTransformer"
   ]
  },
  {
   "cell_type": "code",
   "execution_count": 6,
   "metadata": {},
   "outputs": [],
   "source": [
    "train_named_df = name_transformer.transform(train_df)\n",
    "test_named_df = name_transformer.transform(test_df)"
   ]
  },
  {
   "cell_type": "code",
   "execution_count": 11,
   "metadata": {},
   "outputs": [
    {
     "name": "stdout",
     "output_type": "stream",
     "text": [
      "\n",
      "Train dataset:\n",
      "    * train_named_df.shape=(9557, 138)\n",
      "    * train_df.shape=(9557, 143)\n",
      "\n",
      "Test dataset:\n",
      "    * test_named_df.shape=(23856, 138)\n",
      "    * test_df.shape=(23856, 142)\n",
      "\n"
     ]
    }
   ],
   "source": [
    "print(f'''\n",
    "Train dataset:\n",
    "    * {train_named_df.shape=}\n",
    "    * {train_df.shape=}\n",
    "\n",
    "Test dataset:\n",
    "    * {test_named_df.shape=}\n",
    "    * {test_df.shape=}\n",
    "''')"
   ]
  },
  {
   "cell_type": "code",
   "execution_count": 14,
   "metadata": {},
   "outputs": [
    {
     "data": {
      "text/plain": [
       "monthly_rent                    6860\n",
       "number_tablet                   7342\n",
       "behind_school_years             7928\n",
       "education_years_mean_18+           5\n",
       "education_years_mean_18+_sqd       5\n",
       "dtype: int64"
      ]
     },
     "execution_count": 14,
     "metadata": {},
     "output_type": "execute_result"
    }
   ],
   "source": [
    "inspect_nulls(train_named_df)"
   ]
  },
  {
   "cell_type": "markdown",
   "metadata": {},
   "source": [
    "### Assign Transformer"
   ]
  },
  {
   "cell_type": "code",
   "execution_count": 10,
   "metadata": {},
   "outputs": [],
   "source": [
    "train_assigned_df = assign_transformer.transform(train_named_df)\n",
    "test_assigned_df = assign_transformer.transform(test_named_df)"
   ]
  },
  {
   "cell_type": "code",
   "execution_count": 16,
   "metadata": {},
   "outputs": [
    {
     "data": {
      "text/plain": [
       "Series([], dtype: int64)"
      ]
     },
     "execution_count": 16,
     "metadata": {},
     "output_type": "execute_result"
    }
   ],
   "source": [
    "inspect_nulls(train_assigned_df)"
   ]
  }
 ],
 "metadata": {
  "kernelspec": {
   "display_name": "Python 3.10.8 ('project-ml')",
   "language": "python",
   "name": "python3"
  },
  "language_info": {
   "codemirror_mode": {
    "name": "ipython",
    "version": 3
   },
   "file_extension": ".py",
   "mimetype": "text/x-python",
   "name": "python",
   "nbconvert_exporter": "python",
   "pygments_lexer": "ipython3",
   "version": "3.10.8"
  },
  "orig_nbformat": 4,
  "vscode": {
   "interpreter": {
    "hash": "2e383f59990fe3d22651a4ad07083daaaf731c9d2ac6275b8fedb86f5101aa90"
   }
  }
 },
 "nbformat": 4,
 "nbformat_minor": 2
}
