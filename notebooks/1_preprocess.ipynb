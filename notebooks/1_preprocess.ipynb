{
 "cells": [
  {
   "cell_type": "code",
   "execution_count": 40,
   "metadata": {},
   "outputs": [
    {
     "name": "stdout",
     "output_type": "stream",
     "text": [
      "The autoreload extension is already loaded. To reload it, use:\n",
      "  %reload_ext autoreload\n"
     ]
    }
   ],
   "source": [
    "%load_ext autoreload\n",
    "%autoreload 2"
   ]
  },
  {
   "attachments": {},
   "cell_type": "markdown",
   "metadata": {},
   "source": [
    "# Preprocess\n",
    "\n",
    "In the preprocessing of the raw dataset, the variables are transformed to the real input of each model."
   ]
  },
  {
   "cell_type": "code",
   "execution_count": 41,
   "metadata": {},
   "outputs": [],
   "source": [
    "import pandas as pd\n",
    "\n",
    "import preprocess.X as X_pre\n",
    "import preprocess.y as y_pre\n",
    "\n",
    "from sklearn.pipeline import make_pipeline\n",
    "\n",
    "from utils.constants import RAW_DIR\n",
    "from utils.dataload import load_data\n",
    "from utils.display import cdisplay\n",
    "from utils.functions import inspect_nulls\n",
    "from utils.transformers import (NameTransformer, AssignTransformer,\n",
    "    AggregateTransformer)"
   ]
  },
  {
   "cell_type": "code",
   "execution_count": 42,
   "metadata": {},
   "outputs": [],
   "source": [
    "train_df = load_data(RAW_DIR / 'train.csv', load_func=pd.read_csv)\n",
    "test_df = load_data(RAW_DIR / 'test.csv', load_func=pd.read_csv)"
   ]
  },
  {
   "attachments": {},
   "cell_type": "markdown",
   "metadata": {},
   "source": [
    "## Transformers - `X`\n",
    "Each of the following transformers has the objective to processed the dataframe to turn it suitable for training machine learning models. The steps in the pipeline are:\n",
    "* `NameTransformer`: Transforms column names into readable variable names\n",
    "* `AssignTransformer`: Impute values for NaN observations in `monthly_rent`, `number_tablet`, `behind_school_years`, `education_years_mean_18+` and `education_years_mean_18+_sqd`\n",
    "* `AggregationTransformer`: Brings all data to household level"
   ]
  },
  {
   "cell_type": "code",
   "execution_count": null,
   "metadata": {},
   "outputs": [],
   "source": [
    "name_transformer = NameTransformer(X_pre.NAMES_MAP, X_pre.KEEP_FEATURES)\n",
    "\n",
    "assign_transformer = AssignTransformer(X_pre.ASSIGN_MAP)\n",
    "\n",
    "aggregate_transformer = AggregateTransformer(\n",
    "    X_pre.AGGREGATE_MAP, X_pre.INDEX_KEY, keep=True,\n",
    "    exclude=['rubbish_disposal_throw_river_creek_sea'])"
   ]
  },
  {
   "cell_type": "code",
   "execution_count": null,
   "metadata": {},
   "outputs": [],
   "source": [
    "X_pipeline = make_pipeline(\n",
    "    name_transformer,\n",
    "    assign_transformer,\n",
    "    aggregate_transformer\n",
    ")"
   ]
  },
  {
   "attachments": {},
   "cell_type": "markdown",
   "metadata": {},
   "source": [
    "### NameTransformer"
   ]
  },
  {
   "cell_type": "code",
   "execution_count": null,
   "metadata": {},
   "outputs": [],
   "source": [
    "train_named_df = name_transformer.transform(train_df)\n",
    "test_named_df = name_transformer.transform(test_df)"
   ]
  },
  {
   "cell_type": "code",
   "execution_count": null,
   "metadata": {},
   "outputs": [],
   "source": [
    "print(f'''\n",
    "Train dataset:\n",
    "    * {train_named_df.shape=}\n",
    "    * {train_df.shape=}\n",
    "''')"
   ]
  },
  {
   "cell_type": "code",
   "execution_count": null,
   "metadata": {},
   "outputs": [],
   "source": [
    "inspect_nulls(train_named_df)"
   ]
  },
  {
   "attachments": {},
   "cell_type": "markdown",
   "metadata": {},
   "source": [
    "### AssignTransformer"
   ]
  },
  {
   "cell_type": "code",
   "execution_count": null,
   "metadata": {},
   "outputs": [],
   "source": [
    "train_assigned_df = assign_transformer.transform(train_named_df)\n",
    "test_assigned_df = assign_transformer.transform(test_named_df)"
   ]
  },
  {
   "cell_type": "code",
   "execution_count": null,
   "metadata": {},
   "outputs": [],
   "source": [
    "inspect_nulls(train_assigned_df)"
   ]
  },
  {
   "attachments": {},
   "cell_type": "markdown",
   "metadata": {},
   "source": [
    "### AggregateTransformer"
   ]
  },
  {
   "cell_type": "code",
   "execution_count": null,
   "metadata": {},
   "outputs": [],
   "source": [
    "train_aggregated_df = aggregate_transformer.transform(train_assigned_df)\n",
    "test_aggregated_df = aggregate_transformer.transform(test_assigned_df)"
   ]
  },
  {
   "cell_type": "code",
   "execution_count": null,
   "metadata": {},
   "outputs": [],
   "source": [
    "train_assigned_df.shape"
   ]
  },
  {
   "cell_type": "code",
   "execution_count": null,
   "metadata": {},
   "outputs": [],
   "source": [
    "train_aggregated_df.shape"
   ]
  },
  {
   "cell_type": "code",
   "execution_count": null,
   "metadata": {},
   "outputs": [],
   "source": [
    "cdisplay(train_aggregated_df)"
   ]
  },
  {
   "attachments": {},
   "cell_type": "markdown",
   "metadata": {},
   "source": [
    "## Transformers - `y`\n",
    "The target variable is processed and obtained independetly of the `X` features. The following transformers define the steps to follow:\n",
    "* `NameTransformer`: Changes the name of the target variable and remove all other variables from the dataset, except the `idhogar`\n",
    "* `AssignTransformer`: Transforms target variable into a binary variable meaning *general poverty* or *no poverty*\n",
    "* `AggregateTransformer`: Obtain data at household level"
   ]
  },
  {
   "cell_type": "code",
   "execution_count": null,
   "metadata": {},
   "outputs": [],
   "source": [
    "y_name_transformer = NameTransformer(y_pre.NAMES_MAP, y_pre.KEEP_FEATURES)\n",
    "\n",
    "y_assign_transformer = AssignTransformer(y_pre.ASSIGN_MAP)\n",
    "\n",
    "y_aggregate_transformer = AggregateTransformer({}, y_pre.INDEX_KEY, keep=True)"
   ]
  },
  {
   "cell_type": "code",
   "execution_count": null,
   "metadata": {},
   "outputs": [],
   "source": [
    "y_pipeline = make_pipeline(\n",
    "    y_name_transformer,\n",
    "    y_assign_transformer,\n",
    "    y_aggregate_transformer\n",
    ")"
   ]
  },
  {
   "attachments": {},
   "cell_type": "markdown",
   "metadata": {},
   "source": [
    "## Pipeline"
   ]
  },
  {
   "cell_type": "code",
   "execution_count": null,
   "metadata": {},
   "outputs": [],
   "source": [
    "X_train = X_pipeline.fit_transform(train_df)\n",
    "X_test = X_pipeline.fit_transform(test_df)\n",
    "y = y_pipeline.fit_transform(train_df)"
   ]
  },
  {
   "cell_type": "code",
   "execution_count": null,
   "metadata": {},
   "outputs": [],
   "source": [
    "X_train.shape"
   ]
  },
  {
   "cell_type": "code",
   "execution_count": null,
   "metadata": {},
   "outputs": [],
   "source": [
    "cdisplay(X_train)"
   ]
  },
  {
   "cell_type": "code",
   "execution_count": null,
   "metadata": {},
   "outputs": [],
   "source": [
    "y.shape"
   ]
  },
  {
   "cell_type": "code",
   "execution_count": null,
   "metadata": {},
   "outputs": [],
   "source": [
    "cdisplay(y)"
   ]
  },
  {
   "attachments": {},
   "cell_type": "markdown",
   "metadata": {},
   "source": [
    "## Save datasets"
   ]
  },
  {
   "cell_type": "code",
   "execution_count": null,
   "metadata": {},
   "outputs": [],
   "source": [
    "from utils.constants import STAGE_DIR\n",
    "\n",
    "X_train.to_parquet(STAGE_DIR / 'preprocess' / 'X_train.parquet')\n",
    "X_test.to_parquet(STAGE_DIR / 'preprocess' / 'X_test.parquet')\n",
    "y.to_parquet(STAGE_DIR / 'preprocess' / 'y.parquet')"
   ]
  }
 ],
 "metadata": {
  "kernelspec": {
   "display_name": "Python 3.10.8 ('project-ml')",
   "language": "python",
   "name": "python3"
  },
  "language_info": {
   "codemirror_mode": {
    "name": "ipython",
    "version": 3
   },
   "file_extension": ".py",
   "mimetype": "text/x-python",
   "name": "python",
   "nbconvert_exporter": "python",
   "pygments_lexer": "ipython3",
   "version": "3.10.8"
  },
  "orig_nbformat": 4,
  "vscode": {
   "interpreter": {
    "hash": "2e383f59990fe3d22651a4ad07083daaaf731c9d2ac6275b8fedb86f5101aa90"
   }
  }
 },
 "nbformat": 4,
 "nbformat_minor": 2
}
