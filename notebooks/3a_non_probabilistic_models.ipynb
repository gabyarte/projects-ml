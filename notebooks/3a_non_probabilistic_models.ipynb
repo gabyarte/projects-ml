{
 "cells": [
  {
   "cell_type": "code",
   "execution_count": null,
   "metadata": {},
   "outputs": [],
   "source": [
    "%load_ext autoreload\n",
    "%autoreload 2"
   ]
  },
  {
   "cell_type": "code",
   "execution_count": 166,
   "metadata": {},
   "outputs": [],
   "source": [
    "import pandas as pd\n",
    "import numpy as np\n",
    "import matplotlib.pyplot as plt\n",
    "import seaborn as sns\n",
    "\n",
    "from sklearn.tree import DecisionTreeClassifier, plot_tree\n",
    "from sklearn.svm import SVC\n",
    "from sklearn.neighbors import KNeighborsClassifier\n",
    "from sklearn.model_selection import cross_val_score\n",
    "from sklearn.metrics import classification_report\n",
    "\n",
    "from wittgenstein import RIPPER\n",
    "\n",
    "from utils.constants import STAGE_DIR, ANALYSIS_DIR\n",
    "from utils.dataload import load_data\n",
    "from utils.display import cdisplay\n",
    "from utils.functions import split_train_test, tree_structure\n",
    "from utils.plots import decision_boundary_plot\n",
    "from utils.transformers import SequentialFeatureSelectorTransformer"
   ]
  },
  {
   "attachments": {},
   "cell_type": "markdown",
   "metadata": {},
   "source": [
    "# Configuration"
   ]
  },
  {
   "cell_type": "code",
   "execution_count": 169,
   "metadata": {},
   "outputs": [],
   "source": [
    "RUN_WRAPPER_SELECTION = False"
   ]
  },
  {
   "attachments": {},
   "cell_type": "markdown",
   "metadata": {},
   "source": [
    "# Load data"
   ]
  },
  {
   "cell_type": "code",
   "execution_count": null,
   "metadata": {},
   "outputs": [],
   "source": [
    "# Load all dataset\n",
    "X_all = load_data(\n",
    "    STAGE_DIR / 'preprocess' / 'X_train.parquet',\n",
    "    load_func=pd.read_parquet).sort_index()\n",
    "\n",
    "# Load selected dataset using univariate analysis\n",
    "X_mi = load_data(\n",
    "    STAGE_DIR / 'selection' / 'X_train_mi.parquet',\n",
    "    load_func=pd.read_parquet).sort_index()\n",
    "\n",
    "X_x2 = load_data(\n",
    "    STAGE_DIR / 'selection' / 'X_train_x2.parquet',\n",
    "    load_func=pd.read_parquet).sort_index()\n",
    "\n",
    "X_anova = load_data(\n",
    "    STAGE_DIR / 'selection' / 'X_train_anova.parquet',\n",
    "    load_func=pd.read_parquet).sort_index()\n",
    "\n",
    "# Load selected dataset using multivariate analysis\n",
    "X_relief = load_data(\n",
    "    STAGE_DIR / 'selection' / 'X_train_relief.parquet',\n",
    "    load_func=pd.read_parquet).sort_index()"
   ]
  },
  {
   "cell_type": "code",
   "execution_count": null,
   "metadata": {},
   "outputs": [],
   "source": [
    "y = load_data(\n",
    "    STAGE_DIR / 'preprocess' / 'y.parquet',\n",
    "    load_func=pd.read_parquet).sort_index()"
   ]
  },
  {
   "cell_type": "code",
   "execution_count": null,
   "metadata": {},
   "outputs": [],
   "source": [
    "X_train_all, X_test_all, y_train_all, y_test_all = split_train_test(X_all, y)\n",
    "X_train_mi, X_test_mi, y_train_mi, y_test_mi = split_train_test(X_mi, y)\n",
    "X_train_x2, X_test_x2, y_train_x2, y_test_x2 = split_train_test(X_x2, y)\n",
    "X_train_anova, X_test_anova, y_train_anova, y_test_anova = split_train_test(X_anova, y)\n",
    "X_train_relief, X_test_relief, y_train_relief, y_test_relief = split_train_test(X_relief, y)"
   ]
  },
  {
   "attachments": {},
   "cell_type": "markdown",
   "metadata": {},
   "source": [
    "# Support Vector Machine\n",
    "\n",
    "The training occurs in a SVM model with polynomial kernel. The in-sample scores are calculated using a cross validation method with 5 validation steps. The accuracy is used as the metric to evaluate the model performance."
   ]
  },
  {
   "attachments": {},
   "cell_type": "markdown",
   "metadata": {},
   "source": [
    "## All features"
   ]
  },
  {
   "attachments": {},
   "cell_type": "markdown",
   "metadata": {},
   "source": [
    "### Training and score in the sample (80% - 0.01 std)"
   ]
  },
  {
   "cell_type": "code",
   "execution_count": null,
   "metadata": {},
   "outputs": [],
   "source": [
    "svm_all = SVC(kernel='poly')\n",
    "svm_all_scores = cross_val_score(\n",
    "    svm_all,\n",
    "    X_train_all,\n",
    "    y_train_all['y'],\n",
    "    cv=5\n",
    ")\n",
    "\n",
    "print(\"%0.2f accuracy with a standard deviation of %0.2f\" % (\n",
    "    svm_all_scores.mean(),\n",
    "    svm_all_scores.std())\n",
    ")"
   ]
  },
  {
   "attachments": {},
   "cell_type": "markdown",
   "metadata": {},
   "source": [
    "### Out-of-sample score"
   ]
  },
  {
   "cell_type": "code",
   "execution_count": null,
   "metadata": {},
   "outputs": [],
   "source": [
    "svm_all = SVC(kernel='poly').fit(X_train_all, y_train_all['y'])\n",
    "y_test_predict_all = svm_all.predict(X_test_all)\n",
    "\n",
    "print(classification_report(y_test_all['y'], y_test_predict_all))"
   ]
  },
  {
   "attachments": {},
   "cell_type": "markdown",
   "metadata": {},
   "source": [
    "### Decision boundary"
   ]
  },
  {
   "cell_type": "code",
   "execution_count": null,
   "metadata": {},
   "outputs": [],
   "source": [
    "decision_boundary_plot(\n",
    "    SVC(kernel='poly'),\n",
    "    X_train_all, y_train_all,\n",
    "    'SVM with all features'\n",
    ")"
   ]
  },
  {
   "attachments": {},
   "cell_type": "markdown",
   "metadata": {},
   "source": [
    "## Univariate - Mutual Information"
   ]
  },
  {
   "attachments": {},
   "cell_type": "markdown",
   "metadata": {},
   "source": [
    "### Training and score in the sample (80% - 0.01 std)"
   ]
  },
  {
   "cell_type": "code",
   "execution_count": null,
   "metadata": {},
   "outputs": [],
   "source": [
    "svm_mi = SVC(kernel='poly')\n",
    "svm_mi_scores = cross_val_score(\n",
    "    svm_mi,\n",
    "    X_train_mi,\n",
    "    y_train_mi['y'],\n",
    "    cv=5\n",
    ")\n",
    "\n",
    "print(\"%0.2f accuracy with a standard deviation of %0.2f\" % (\n",
    "    svm_mi_scores.mean(),\n",
    "    svm_mi_scores.std())\n",
    ")"
   ]
  },
  {
   "attachments": {},
   "cell_type": "markdown",
   "metadata": {},
   "source": [
    "### Out-of-sample score"
   ]
  },
  {
   "cell_type": "code",
   "execution_count": null,
   "metadata": {},
   "outputs": [],
   "source": [
    "svm_mi = SVC(kernel='poly').fit(X_train_mi, y_train_mi['y'])\n",
    "y_test_predict_mi = svm_mi.predict(X_test_mi)\n",
    "\n",
    "print(classification_report(y_test_mi['y'], y_test_predict_mi))"
   ]
  },
  {
   "attachments": {},
   "cell_type": "markdown",
   "metadata": {},
   "source": [
    "### Decision boundary"
   ]
  },
  {
   "cell_type": "code",
   "execution_count": null,
   "metadata": {},
   "outputs": [],
   "source": [
    "decision_boundary_plot(\n",
    "    SVC(kernel='poly'),\n",
    "    X_train_mi, y_train_mi,\n",
    "    'SVM with selected features (MI)'\n",
    ")"
   ]
  },
  {
   "attachments": {},
   "cell_type": "markdown",
   "metadata": {},
   "source": [
    "## Univariate - $\\chi^2$"
   ]
  },
  {
   "attachments": {},
   "cell_type": "markdown",
   "metadata": {},
   "source": [
    "### Training and score in the sample (78% - 0.01 std)"
   ]
  },
  {
   "cell_type": "code",
   "execution_count": null,
   "metadata": {},
   "outputs": [],
   "source": [
    "svm_x2 = SVC(kernel='poly')\n",
    "svm_x2_scores = cross_val_score(\n",
    "    svm_x2,\n",
    "    X_train_x2,\n",
    "    y_train_x2['y'],\n",
    "    cv=5\n",
    ")\n",
    "\n",
    "print(\"%0.2f accuracy with a standard deviation of %0.2f\" % (\n",
    "    svm_x2_scores.mean(),\n",
    "    svm_x2_scores.std())\n",
    ")"
   ]
  },
  {
   "attachments": {},
   "cell_type": "markdown",
   "metadata": {},
   "source": [
    "### Out-of-sample score"
   ]
  },
  {
   "cell_type": "code",
   "execution_count": null,
   "metadata": {},
   "outputs": [],
   "source": [
    "svm_x2 = SVC(kernel='poly').fit(X_train_x2, y_train_x2['y'])\n",
    "y_test_predict_x2 = svm_x2.predict(X_test_x2)\n",
    "\n",
    "print(classification_report(y_test_x2['y'], y_test_predict_x2))"
   ]
  },
  {
   "attachments": {},
   "cell_type": "markdown",
   "metadata": {},
   "source": [
    "### Decision boundary"
   ]
  },
  {
   "cell_type": "code",
   "execution_count": null,
   "metadata": {},
   "outputs": [],
   "source": [
    "decision_boundary_plot(\n",
    "    SVC(kernel='poly'),\n",
    "    X_train_x2, y_train_x2,\n",
    "    'SVM with selected features (X2)'\n",
    ")"
   ]
  },
  {
   "attachments": {},
   "cell_type": "markdown",
   "metadata": {},
   "source": [
    "## Univariate - ANOVA"
   ]
  },
  {
   "attachments": {},
   "cell_type": "markdown",
   "metadata": {},
   "source": [
    "### Training and score in the sample (80% - 0.02 std)"
   ]
  },
  {
   "cell_type": "code",
   "execution_count": null,
   "metadata": {},
   "outputs": [],
   "source": [
    "svm_anova = SVC(kernel='poly')\n",
    "svm_anova_scores = cross_val_score(\n",
    "    svm_anova,\n",
    "    X_train_anova,\n",
    "    y_train_anova['y'],\n",
    "    cv=5\n",
    ")\n",
    "\n",
    "print(\"%0.2f accuracy with a standard deviation of %0.2f\" % (\n",
    "    svm_anova_scores.mean(),\n",
    "    svm_anova_scores.std())\n",
    ")"
   ]
  },
  {
   "attachments": {},
   "cell_type": "markdown",
   "metadata": {},
   "source": [
    "### Out-of-sample score"
   ]
  },
  {
   "cell_type": "code",
   "execution_count": null,
   "metadata": {},
   "outputs": [],
   "source": [
    "svm_anova = SVC(kernel='poly').fit(X_train_anova, y_train_anova['y'])\n",
    "y_test_predict_anova = svm_anova.predict(X_test_anova)\n",
    "\n",
    "print(classification_report(y_test_anova['y'], y_test_predict_anova))"
   ]
  },
  {
   "attachments": {},
   "cell_type": "markdown",
   "metadata": {},
   "source": [
    "### Decision boundary"
   ]
  },
  {
   "cell_type": "code",
   "execution_count": null,
   "metadata": {},
   "outputs": [],
   "source": [
    "decision_boundary_plot(\n",
    "    SVC(kernel='poly'),\n",
    "    X_train_anova, y_train_anova,\n",
    "    'SVM with selected features (ANOVA)'\n",
    ")"
   ]
  },
  {
   "attachments": {},
   "cell_type": "markdown",
   "metadata": {},
   "source": [
    "## Multivariate - Relief"
   ]
  },
  {
   "attachments": {},
   "cell_type": "markdown",
   "metadata": {},
   "source": [
    "### Training and score in the sample (78% - 0.1 std)"
   ]
  },
  {
   "cell_type": "code",
   "execution_count": null,
   "metadata": {},
   "outputs": [],
   "source": [
    "svm_relief = SVC(kernel='poly')\n",
    "svm_relief_scores = cross_val_score(\n",
    "    svm_relief,\n",
    "    X_train_relief,\n",
    "    y_train_relief['y'],\n",
    "    cv=5\n",
    ")\n",
    "\n",
    "print(\"%0.2f accuracy with a standard deviation of %0.2f\" % (\n",
    "    svm_relief_scores.mean(),\n",
    "    svm_relief_scores.std())\n",
    ")"
   ]
  },
  {
   "attachments": {},
   "cell_type": "markdown",
   "metadata": {},
   "source": [
    "### Out-of-sample score"
   ]
  },
  {
   "cell_type": "code",
   "execution_count": null,
   "metadata": {},
   "outputs": [],
   "source": [
    "svm_relief = SVC(kernel='poly').fit(X_train_relief, y_train_relief['y'])\n",
    "y_test_predict_relief = svm_relief.predict(X_test_relief)\n",
    "\n",
    "print(classification_report(y_test_relief['y'], y_test_predict_relief))"
   ]
  },
  {
   "attachments": {},
   "cell_type": "markdown",
   "metadata": {},
   "source": [
    "### Decision boundary"
   ]
  },
  {
   "cell_type": "code",
   "execution_count": null,
   "metadata": {},
   "outputs": [],
   "source": [
    "decision_boundary_plot(\n",
    "    SVC(kernel='poly'),\n",
    "    X_train_relief, y_train_relief,\n",
    "    'SVM with selected features (RELIEF)'\n",
    ")"
   ]
  },
  {
   "attachments": {},
   "cell_type": "markdown",
   "metadata": {},
   "source": [
    "## Wrapper"
   ]
  },
  {
   "attachments": {},
   "cell_type": "markdown",
   "metadata": {},
   "source": [
    "### Select features"
   ]
  },
  {
   "cell_type": "code",
   "execution_count": null,
   "metadata": {},
   "outputs": [],
   "source": [
    "if RUN_WRAPPER_SELECTION:\n",
    "    svm_wrapper = SVC(kernel='poly')\n",
    "\n",
    "    svm_fs_wrapper = SequentialFeatureSelectorTransformer(\n",
    "        svm_wrapper, n_features_to_select=75)\n",
    "\n",
    "    print('Fitting model. This may take a while...')\n",
    "    X_svm_wrapper = svm_fs_wrapper.fit_transform(X_all, y['y'])\n",
    "    print('We have a winner!')\n",
    "\n",
    "    X_train_svm_wrapper, X_test_svm_wrapper, y_train_svm_wrapper, y_test_svm_wrapper = split_train_test(X_svm_wrapper, y)\n",
    "\n",
    "    X_svm_wrapper.to_parquet(STAGE_DIR / 'selection' / 'X_train_svm.parquet')"
   ]
  },
  {
   "attachments": {},
   "cell_type": "markdown",
   "metadata": {},
   "source": [
    "### Training and score in the sample (80% - 0.1 std)"
   ]
  },
  {
   "cell_type": "code",
   "execution_count": null,
   "metadata": {},
   "outputs": [],
   "source": [
    "if not RUN_WRAPPER_SELECTION:\n",
    "    X_svm_wrapper = pd.read_parquet(STAGE_DIR / 'selection' / 'X_train_svm.parquet')\n",
    "    X_train_svm_wrapper, X_test_svm_wrapper, y_train_svm_wrapper, y_test_svm_wrapper = split_train_test(X_svm_wrapper, y)"
   ]
  },
  {
   "cell_type": "code",
   "execution_count": null,
   "metadata": {},
   "outputs": [],
   "source": [
    "svm_wrapper_scores = cross_val_score(\n",
    "    svm_wrapper,\n",
    "    X_train_svm_wrapper,\n",
    "    y_train_svm_wrapper['y'],\n",
    "    cv=5\n",
    ")\n",
    "\n",
    "print(\"%0.2f accuracy with a standard deviation of %0.2f\" % (\n",
    "    svm_wrapper_scores.mean(),\n",
    "    svm_wrapper_scores.std())\n",
    ")"
   ]
  },
  {
   "attachments": {},
   "cell_type": "markdown",
   "metadata": {},
   "source": [
    "### Out-of-sample score"
   ]
  },
  {
   "cell_type": "code",
   "execution_count": null,
   "metadata": {},
   "outputs": [],
   "source": [
    "svm_wrapper = SVC(kernel='poly').fit(X_train_svm_wrapper, y_train_svm_wrapper['y'])\n",
    "y_test_predict_svm_wrapper = svm_wrapper.predict(X_test_svm_wrapper)\n",
    "\n",
    "print(classification_report(y_test_svm_wrapper['y'], y_test_predict_svm_wrapper))"
   ]
  },
  {
   "attachments": {},
   "cell_type": "markdown",
   "metadata": {},
   "source": [
    "### Decision boundary"
   ]
  },
  {
   "cell_type": "code",
   "execution_count": null,
   "metadata": {},
   "outputs": [],
   "source": [
    "decision_boundary_plot(\n",
    "    SVC(kernel='poly'),\n",
    "    X_train_svm_wrapper, y_train_svm_wrapper,\n",
    "    'SVM with selected features (SFS)'\n",
    ")"
   ]
  },
  {
   "attachments": {},
   "cell_type": "markdown",
   "metadata": {},
   "source": [
    "# Classification Tree\n",
    "\n",
    "We use a Decision Tree model with entropy criterion and 10 levels of depth. The in-sample scores are calculated using a cross validation method with 5 folds. The accuracy is used as the metric to evaluate the model performance."
   ]
  },
  {
   "cell_type": "code",
   "execution_count": null,
   "metadata": {},
   "outputs": [],
   "source": [
    "tree_parameters = {\n",
    "    'criterion': 'entropy',\n",
    "    'max_depth': 5\n",
    "}"
   ]
  },
  {
   "attachments": {},
   "cell_type": "markdown",
   "metadata": {},
   "source": [
    "## All features"
   ]
  },
  {
   "attachments": {},
   "cell_type": "markdown",
   "metadata": {},
   "source": [
    "### Training and score in the sample (78% - 0.00 std)"
   ]
  },
  {
   "cell_type": "code",
   "execution_count": null,
   "metadata": {},
   "outputs": [],
   "source": [
    "tree_all = DecisionTreeClassifier(**tree_parameters)\n",
    "tree_all_scores = cross_val_score(\n",
    "    tree_all,\n",
    "    X_train_all,\n",
    "    y_train_all['y'],\n",
    "    cv=5\n",
    ")\n",
    "\n",
    "print(\"%0.2f accuracy with a standard deviation of %0.2f\" % (\n",
    "    tree_all_scores.mean(),\n",
    "    tree_all_scores.std())\n",
    ")"
   ]
  },
  {
   "attachments": {},
   "cell_type": "markdown",
   "metadata": {},
   "source": [
    "### Out-of-sample score"
   ]
  },
  {
   "cell_type": "code",
   "execution_count": null,
   "metadata": {},
   "outputs": [],
   "source": [
    "tree_all = DecisionTreeClassifier(**tree_parameters).fit(X_train_all, y_train_all['y'])\n",
    "y_test_predict_tree_all = tree_all.predict(X_test_all)\n",
    "\n",
    "print(classification_report(y_test_all['y'], y_test_predict_tree_all))"
   ]
  },
  {
   "attachments": {},
   "cell_type": "markdown",
   "metadata": {},
   "source": [
    "### Tree structure"
   ]
  },
  {
   "cell_type": "code",
   "execution_count": null,
   "metadata": {},
   "outputs": [],
   "source": [
    "tree_structure(tree_all, X_train_all.columns.values)"
   ]
  },
  {
   "cell_type": "code",
   "execution_count": null,
   "metadata": {},
   "outputs": [],
   "source": [
    "fig = plt.figure(figsize=(63, 40))\n",
    "_ = plot_tree(tree_all,\n",
    "              feature_names=X_train_all.columns,  \n",
    "              class_names=['non-poor', 'poor'],\n",
    "              filled=True,\n",
    "              fontsize=10)"
   ]
  },
  {
   "cell_type": "code",
   "execution_count": null,
   "metadata": {},
   "outputs": [],
   "source": [
    "fig.savefig(ANALYSIS_DIR / 'images' /'tree_all.svg', format='svg', dpi=1e5)"
   ]
  },
  {
   "attachments": {},
   "cell_type": "markdown",
   "metadata": {},
   "source": [
    "## Univariate - Mutual Information"
   ]
  },
  {
   "attachments": {},
   "cell_type": "markdown",
   "metadata": {},
   "source": [
    "### Training and score in the sample (78% - 0.01 std)"
   ]
  },
  {
   "cell_type": "code",
   "execution_count": null,
   "metadata": {},
   "outputs": [],
   "source": [
    "tree_mi = DecisionTreeClassifier(**tree_parameters)\n",
    "tree_mi_scores = cross_val_score(\n",
    "    tree_mi,\n",
    "    X_train_mi,\n",
    "    y_train_mi['y'],\n",
    "    cv=5\n",
    ")\n",
    "\n",
    "print(\"%0.2f accuracy with a standard deviation of %0.2f\" % (\n",
    "    tree_mi_scores.mean(),\n",
    "    tree_mi_scores.std())\n",
    ")"
   ]
  },
  {
   "attachments": {},
   "cell_type": "markdown",
   "metadata": {},
   "source": [
    "### Out-of-sample score"
   ]
  },
  {
   "cell_type": "code",
   "execution_count": null,
   "metadata": {},
   "outputs": [],
   "source": [
    "tree_mi = DecisionTreeClassifier(**tree_parameters).fit(X_train_mi, y_train_mi['y'])\n",
    "y_test_predict_tree_mi = tree_mi.predict(X_test_mi)\n",
    "\n",
    "print(classification_report(y_test_mi['y'], y_test_predict_tree_mi))"
   ]
  },
  {
   "attachments": {},
   "cell_type": "markdown",
   "metadata": {},
   "source": [
    "### Tree structure"
   ]
  },
  {
   "cell_type": "code",
   "execution_count": null,
   "metadata": {},
   "outputs": [],
   "source": [
    "tree_structure(tree_mi, X_train_mi.columns.values)"
   ]
  },
  {
   "cell_type": "code",
   "execution_count": null,
   "metadata": {},
   "outputs": [],
   "source": [
    "fig = plt.figure(figsize=(53, 40))\n",
    "_ = plot_tree(tree_mi,\n",
    "              feature_names=X_train_mi.columns,  \n",
    "              class_names=['non-poor', 'poor'],\n",
    "              filled=True,\n",
    "              fontsize=10)"
   ]
  },
  {
   "cell_type": "code",
   "execution_count": null,
   "metadata": {},
   "outputs": [],
   "source": [
    "fig.savefig(ANALYSIS_DIR / 'images' /'tree_mi.svg', format='svg', dpi=1e5)"
   ]
  },
  {
   "attachments": {},
   "cell_type": "markdown",
   "metadata": {},
   "source": [
    "## Univariate - $\\chi^2$"
   ]
  },
  {
   "attachments": {},
   "cell_type": "markdown",
   "metadata": {},
   "source": [
    "### Training and score in the sample (78% - 0.01 std)"
   ]
  },
  {
   "cell_type": "code",
   "execution_count": null,
   "metadata": {},
   "outputs": [],
   "source": [
    "tree_x2 = DecisionTreeClassifier(**tree_parameters)\n",
    "tree_x2_scores = cross_val_score(\n",
    "    tree_x2,\n",
    "    X_train_x2,\n",
    "    y_train_x2['y'],\n",
    "    cv=5\n",
    ")\n",
    "\n",
    "print(\"%0.2f accuracy with a standard deviation of %0.2f\" % (\n",
    "    tree_x2_scores.mean(),\n",
    "    tree_x2_scores.std())\n",
    ")"
   ]
  },
  {
   "attachments": {},
   "cell_type": "markdown",
   "metadata": {},
   "source": [
    "### Out-of-sample score"
   ]
  },
  {
   "cell_type": "code",
   "execution_count": null,
   "metadata": {},
   "outputs": [],
   "source": [
    "tree_x2 = DecisionTreeClassifier(\n",
    "        **tree_parameters\n",
    "    ).fit(X_train_x2, y_train_x2['y'])\n",
    "y_test_predict_tree_x2 = tree_x2.predict(X_test_x2)\n",
    "\n",
    "print(classification_report(y_test_x2['y'], y_test_predict_tree_x2))"
   ]
  },
  {
   "attachments": {},
   "cell_type": "markdown",
   "metadata": {},
   "source": [
    "### Tree structure"
   ]
  },
  {
   "cell_type": "code",
   "execution_count": null,
   "metadata": {},
   "outputs": [],
   "source": [
    "tree_structure(tree_x2, X_train_x2.columns.values)"
   ]
  },
  {
   "cell_type": "code",
   "execution_count": null,
   "metadata": {},
   "outputs": [],
   "source": [
    "fig = plt.figure(figsize=(75, 40))\n",
    "_ = plot_tree(tree_x2,\n",
    "              feature_names=X_train_x2.columns,  \n",
    "              class_names=['non-poor', 'poor'],\n",
    "              filled=True,\n",
    "              fontsize=10)"
   ]
  },
  {
   "cell_type": "code",
   "execution_count": null,
   "metadata": {},
   "outputs": [],
   "source": [
    "fig.savefig(ANALYSIS_DIR / 'images' /'tree_x2.svg', format='svg', dpi=1e5)"
   ]
  },
  {
   "attachments": {},
   "cell_type": "markdown",
   "metadata": {},
   "source": [
    "## Univariate - ANOVA"
   ]
  },
  {
   "attachments": {},
   "cell_type": "markdown",
   "metadata": {},
   "source": [
    "### Training and score in the sample (78% - 0.01 std)"
   ]
  },
  {
   "cell_type": "code",
   "execution_count": null,
   "metadata": {},
   "outputs": [],
   "source": [
    "tree_anova = DecisionTreeClassifier(**tree_parameters)\n",
    "tree_anova_scores = cross_val_score(\n",
    "    tree_anova,\n",
    "    X_train_anova,\n",
    "    y_train_anova['y'],\n",
    "    cv=5\n",
    ")\n",
    "\n",
    "print(\"%0.2f accuracy with a standard deviation of %0.2f\" % (\n",
    "    tree_anova_scores.mean(),\n",
    "    tree_anova_scores.std())\n",
    ")"
   ]
  },
  {
   "attachments": {},
   "cell_type": "markdown",
   "metadata": {},
   "source": [
    "### Out-of-sample score"
   ]
  },
  {
   "cell_type": "code",
   "execution_count": null,
   "metadata": {},
   "outputs": [],
   "source": [
    "tree_anova = DecisionTreeClassifier(\n",
    "    **tree_parameters\n",
    ").fit(X_train_anova, y_train_anova['y'])\n",
    "y_test_predict_tree_anova = tree_anova.predict(X_test_anova)\n",
    "\n",
    "print(classification_report(y_test_anova['y'], y_test_predict_tree_anova))"
   ]
  },
  {
   "attachments": {},
   "cell_type": "markdown",
   "metadata": {},
   "source": [
    "### Tree structure"
   ]
  },
  {
   "cell_type": "code",
   "execution_count": null,
   "metadata": {},
   "outputs": [],
   "source": [
    "tree_structure(tree_anova, X_train_anova.columns.values)"
   ]
  },
  {
   "cell_type": "code",
   "execution_count": null,
   "metadata": {},
   "outputs": [],
   "source": [
    "fig = plt.figure(figsize=(45, 40))\n",
    "_ = plot_tree(tree_anova,\n",
    "              feature_names=X_train_anova.columns,  \n",
    "              class_names=['non-poor', 'poor'],\n",
    "              filled=True,\n",
    "              fontsize=10)"
   ]
  },
  {
   "cell_type": "code",
   "execution_count": null,
   "metadata": {},
   "outputs": [],
   "source": [
    "fig.savefig(ANALYSIS_DIR / 'images' /'tree_anova.svg', format='svg', dpi=1e5)"
   ]
  },
  {
   "attachments": {},
   "cell_type": "markdown",
   "metadata": {},
   "source": [
    "## Multivariate - Relief"
   ]
  },
  {
   "attachments": {},
   "cell_type": "markdown",
   "metadata": {},
   "source": [
    "### Training and score in the sample (77% - 0.01 std)"
   ]
  },
  {
   "cell_type": "code",
   "execution_count": null,
   "metadata": {},
   "outputs": [],
   "source": [
    "tree_relief = DecisionTreeClassifier(**tree_parameters)\n",
    "tree_relief_scores = cross_val_score(\n",
    "    tree_relief,\n",
    "    X_train_relief,\n",
    "    y_train_relief['y'],\n",
    "    cv=5\n",
    ")\n",
    "\n",
    "print(\"%0.2f accuracy with a standard deviation of %0.2f\" % (\n",
    "    tree_relief_scores.mean(),\n",
    "    tree_relief_scores.std())\n",
    ")"
   ]
  },
  {
   "attachments": {},
   "cell_type": "markdown",
   "metadata": {},
   "source": [
    "### Out-of-sample score"
   ]
  },
  {
   "cell_type": "code",
   "execution_count": null,
   "metadata": {},
   "outputs": [],
   "source": [
    "tree_relief = DecisionTreeClassifier(**tree_parameters).fit(X_train_relief, y_train_relief['y'])\n",
    "y_test_predict_tree_relief = tree_relief.predict(X_test_relief)\n",
    "\n",
    "print(classification_report(y_test_relief['y'], y_test_predict_tree_relief))"
   ]
  },
  {
   "attachments": {},
   "cell_type": "markdown",
   "metadata": {},
   "source": [
    "### Tree structure"
   ]
  },
  {
   "cell_type": "code",
   "execution_count": null,
   "metadata": {},
   "outputs": [],
   "source": [
    "tree_structure(tree_relief, X_train_relief.columns.values)"
   ]
  },
  {
   "cell_type": "code",
   "execution_count": null,
   "metadata": {},
   "outputs": [],
   "source": [
    "fig = plt.figure(figsize=(48, 40))\n",
    "_ = plot_tree(tree_relief,\n",
    "              feature_names=X_train_relief.columns,  \n",
    "              class_names=['non-poor', 'poor'],\n",
    "              filled=True,\n",
    "              fontsize=10)"
   ]
  },
  {
   "cell_type": "code",
   "execution_count": null,
   "metadata": {},
   "outputs": [],
   "source": [
    "fig.savefig(ANALYSIS_DIR / 'images' /'tree_relief.svg', format='svg', dpi=1e5)"
   ]
  },
  {
   "attachments": {},
   "cell_type": "markdown",
   "metadata": {},
   "source": [
    "## Wrapper"
   ]
  },
  {
   "attachments": {},
   "cell_type": "markdown",
   "metadata": {},
   "source": [
    "### Select features"
   ]
  },
  {
   "cell_type": "code",
   "execution_count": null,
   "metadata": {},
   "outputs": [],
   "source": [
    "if RUN_WRAPPER_SELECTION:\n",
    "    tree_wrapper = DecisionTreeClassifier()\n",
    "\n",
    "    tree_fs_wrapper = SequentialFeatureSelectorTransformer(\n",
    "        tree_wrapper, n_features_to_select=75)\n",
    "\n",
    "    print('Fitting model. This may take a while...')\n",
    "    X_tree_wrapper = tree_fs_wrapper.fit_transform(X_all, y['y'])\n",
    "    print('We have a winner!')\n",
    "\n",
    "    X_train_tree_wrapper, X_test_tree_wrapper, y_train_tree_wrapper, y_test_tree_wrapper = split_train_test(X_tree_wrapper, y)\n",
    "    X_tree_wrapper.to_parquet(STAGE_DIR / 'selection' / 'X_train_tree.parquet')"
   ]
  },
  {
   "attachments": {},
   "cell_type": "markdown",
   "metadata": {},
   "source": [
    "### Training and score in the sample (79% - 0.01 std)"
   ]
  },
  {
   "cell_type": "code",
   "execution_count": null,
   "metadata": {},
   "outputs": [],
   "source": [
    "if not RUN_WRAPPER_SELECTION:\n",
    "    X_tree_wrapper = pd.read_parquet(STAGE_DIR / 'selection' / 'X_train_tree.parquet')\n",
    "    X_train_tree_wrapper, X_test_tree_wrapper, y_train_tree_wrapper, y_test_tree_wrapper = split_train_test(X_tree_wrapper, y)"
   ]
  },
  {
   "cell_type": "code",
   "execution_count": null,
   "metadata": {},
   "outputs": [],
   "source": [
    "tree_wrapper = DecisionTreeClassifier(**tree_parameters)\n",
    "tree_wrapper_scores = cross_val_score(\n",
    "    tree_wrapper,\n",
    "    X_train_tree_wrapper,\n",
    "    y_train_tree_wrapper['y'],\n",
    "    cv=5\n",
    ")\n",
    "\n",
    "print(\"%0.2f accuracy with a standard deviation of %0.2f\" % (\n",
    "    tree_wrapper_scores.mean(),\n",
    "    tree_wrapper_scores.std())\n",
    ")"
   ]
  },
  {
   "attachments": {},
   "cell_type": "markdown",
   "metadata": {},
   "source": [
    "### Out-of-sample score"
   ]
  },
  {
   "cell_type": "code",
   "execution_count": null,
   "metadata": {},
   "outputs": [],
   "source": [
    "tree_wrapper = DecisionTreeClassifier(**tree_parameters).fit(X_train_tree_wrapper, y_train_tree_wrapper['y'])\n",
    "y_test_predict_tree_wrapper = tree_wrapper.predict(X_test_tree_wrapper)\n",
    "\n",
    "print(classification_report(y_test_tree_wrapper['y'], y_test_predict_tree_wrapper))"
   ]
  },
  {
   "attachments": {},
   "cell_type": "markdown",
   "metadata": {},
   "source": [
    "### Tree structure"
   ]
  },
  {
   "cell_type": "code",
   "execution_count": null,
   "metadata": {},
   "outputs": [],
   "source": [
    "tree_structure(tree_wrapper, X_train_tree_wrapper.columns.values)"
   ]
  },
  {
   "cell_type": "code",
   "execution_count": null,
   "metadata": {},
   "outputs": [],
   "source": [
    "fig = plt.figure(figsize=(53, 40))\n",
    "_ = plot_tree(tree_wrapper,\n",
    "              feature_names=X_train_tree_wrapper.columns,  \n",
    "              class_names=['non-poor', 'poor'],\n",
    "              filled=True,\n",
    "              fontsize=10)"
   ]
  },
  {
   "cell_type": "code",
   "execution_count": null,
   "metadata": {},
   "outputs": [],
   "source": [
    "fig.savefig(ANALYSIS_DIR / 'images' /'tree_wrapper.svg', format='svg', dpi=1e5)"
   ]
  },
  {
   "attachments": {},
   "cell_type": "markdown",
   "metadata": {},
   "source": [
    "# Rule Induction - RIPPER\n",
    "\n",
    "The RIPPER algorithm builds a set of rules given a training data. We use the default parameters. The in-sample scores are calculated using a cross validation method with 5 folds. The accuracy is used as the metric to evaluate the model performance. "
   ]
  },
  {
   "attachments": {},
   "cell_type": "markdown",
   "metadata": {},
   "source": [
    "## All features"
   ]
  },
  {
   "attachments": {},
   "cell_type": "markdown",
   "metadata": {},
   "source": [
    "### Training and score in the sample (78% - 0.00 std)"
   ]
  },
  {
   "cell_type": "code",
   "execution_count": null,
   "metadata": {},
   "outputs": [],
   "source": [
    "ripper_all = RIPPER()\n",
    "ripper_all_scores = cross_val_score(\n",
    "    ripper_all,\n",
    "    X_train_all,\n",
    "    y_train_all['y'],\n",
    "    cv=5\n",
    ")\n",
    "\n",
    "print(\"%0.2f accuracy with a standard deviation of %0.2f\" % (\n",
    "    ripper_all_scores.mean(),\n",
    "    ripper_all_scores.std())\n",
    ")"
   ]
  },
  {
   "attachments": {},
   "cell_type": "markdown",
   "metadata": {},
   "source": [
    "### Out-of-sample score"
   ]
  },
  {
   "cell_type": "code",
   "execution_count": null,
   "metadata": {},
   "outputs": [],
   "source": [
    "ripper_all = RIPPER()\n",
    "ripper_all.fit(X_train_all, y_train_all['y'])\n",
    "y_test_predict_ripper_all = ripper_all.predict(X_test_all)\n",
    "\n",
    "print(classification_report(y_test_all['y'], y_test_predict_ripper_all))"
   ]
  },
  {
   "attachments": {},
   "cell_type": "markdown",
   "metadata": {},
   "source": [
    "### Ruleset"
   ]
  },
  {
   "cell_type": "code",
   "execution_count": null,
   "metadata": {},
   "outputs": [],
   "source": [
    "ripper_all.out_model()"
   ]
  },
  {
   "attachments": {},
   "cell_type": "markdown",
   "metadata": {},
   "source": [
    "## Univariate - Mutual Information"
   ]
  },
  {
   "attachments": {},
   "cell_type": "markdown",
   "metadata": {},
   "source": [
    "### Training and score in the sample (79% - 0.01 std)"
   ]
  },
  {
   "cell_type": "code",
   "execution_count": null,
   "metadata": {},
   "outputs": [],
   "source": [
    "ripper_mi = RIPPER()\n",
    "ripper_mi_scores = cross_val_score(\n",
    "    ripper_mi,\n",
    "    X_train_mi,\n",
    "    y_train_mi['y'],\n",
    "    cv=5\n",
    ")\n",
    "\n",
    "print(\"%0.2f accuracy with a standard deviation of %0.2f\" % (\n",
    "    ripper_mi_scores.mean(),\n",
    "    ripper_mi_scores.std())\n",
    ")"
   ]
  },
  {
   "attachments": {},
   "cell_type": "markdown",
   "metadata": {},
   "source": [
    "### Out-of-sample score"
   ]
  },
  {
   "cell_type": "code",
   "execution_count": null,
   "metadata": {},
   "outputs": [],
   "source": [
    "ripper_mi = RIPPER()\n",
    "ripper_mi.fit(X_train_mi, y_train_mi['y'])\n",
    "y_test_predict_ripper_mi = ripper_mi.predict(X_test_mi)\n",
    "\n",
    "print(classification_report(y_test_mi['y'], y_test_predict_ripper_mi))"
   ]
  },
  {
   "attachments": {},
   "cell_type": "markdown",
   "metadata": {},
   "source": [
    "### Ruleset"
   ]
  },
  {
   "cell_type": "code",
   "execution_count": null,
   "metadata": {},
   "outputs": [],
   "source": [
    "ripper_mi.out_model()"
   ]
  },
  {
   "attachments": {},
   "cell_type": "markdown",
   "metadata": {},
   "source": [
    "## Univariate - $\\chi^2$"
   ]
  },
  {
   "attachments": {},
   "cell_type": "markdown",
   "metadata": {},
   "source": [
    "### Training and score in the sample (78% - 0.02 std)"
   ]
  },
  {
   "cell_type": "code",
   "execution_count": null,
   "metadata": {},
   "outputs": [],
   "source": [
    "ripper_x2 = RIPPER()\n",
    "ripper_x2_scores = cross_val_score(\n",
    "    ripper_x2,\n",
    "    X_train_x2,\n",
    "    y_train_x2['y'],\n",
    "    cv=5\n",
    ")\n",
    "\n",
    "print(\"%0.2f accuracy with a standard deviation of %0.2f\" % (\n",
    "    ripper_x2_scores.mean(),\n",
    "    ripper_x2_scores.std())\n",
    ")"
   ]
  },
  {
   "attachments": {},
   "cell_type": "markdown",
   "metadata": {},
   "source": [
    "### Out-of-sample score"
   ]
  },
  {
   "cell_type": "code",
   "execution_count": null,
   "metadata": {},
   "outputs": [],
   "source": [
    "ripper_x2 = RIPPER()\n",
    "ripper_x2.fit(X_train_x2, y_train_x2['y'])\n",
    "y_test_predict_ripper_x2 = ripper_x2.predict(X_test_x2)\n",
    "\n",
    "print(classification_report(y_test_x2['y'], y_test_predict_ripper_x2))"
   ]
  },
  {
   "attachments": {},
   "cell_type": "markdown",
   "metadata": {},
   "source": [
    "### Ruleset"
   ]
  },
  {
   "cell_type": "code",
   "execution_count": null,
   "metadata": {},
   "outputs": [],
   "source": [
    "ripper_x2.out_model()"
   ]
  },
  {
   "attachments": {},
   "cell_type": "markdown",
   "metadata": {},
   "source": [
    "## Univariate - ANOVA"
   ]
  },
  {
   "attachments": {},
   "cell_type": "markdown",
   "metadata": {},
   "source": [
    "### Training and score in the sample (79% - 0.01 std)"
   ]
  },
  {
   "cell_type": "code",
   "execution_count": null,
   "metadata": {},
   "outputs": [],
   "source": [
    "ripper_anova = RIPPER()\n",
    "ripper_anova_scores = cross_val_score(\n",
    "    ripper_anova,\n",
    "    X_train_anova,\n",
    "    y_train_anova['y'],\n",
    "    cv=5\n",
    ")\n",
    "\n",
    "print(\"%0.2f accuracy with a standard deviation of %0.2f\" % (\n",
    "    ripper_mi_scores.mean(),\n",
    "    ripper_mi_scores.std())\n",
    ")"
   ]
  },
  {
   "attachments": {},
   "cell_type": "markdown",
   "metadata": {},
   "source": [
    "### Out-of-sample score"
   ]
  },
  {
   "cell_type": "code",
   "execution_count": null,
   "metadata": {},
   "outputs": [],
   "source": [
    "ripper_anova = RIPPER()\n",
    "ripper_anova.fit(X_train_anova, y_train_anova['y'])\n",
    "y_test_predict_ripper_anova = ripper_anova.predict(X_test_anova)\n",
    "\n",
    "print(classification_report(y_test_anova['y'], y_test_predict_ripper_anova))"
   ]
  },
  {
   "attachments": {},
   "cell_type": "markdown",
   "metadata": {},
   "source": [
    "### Ruleset"
   ]
  },
  {
   "cell_type": "code",
   "execution_count": null,
   "metadata": {},
   "outputs": [],
   "source": [
    "ripper_anova.out_model()"
   ]
  },
  {
   "attachments": {},
   "cell_type": "markdown",
   "metadata": {},
   "source": [
    "## Multivariate - Relief"
   ]
  },
  {
   "attachments": {},
   "cell_type": "markdown",
   "metadata": {},
   "source": [
    "### Training and score in the sample (77% - 0.01 std)"
   ]
  },
  {
   "cell_type": "code",
   "execution_count": null,
   "metadata": {},
   "outputs": [],
   "source": [
    "ripper_relief = RIPPER()\n",
    "ripper_relief_scores = cross_val_score(\n",
    "    ripper_relief,\n",
    "    X_train_relief,\n",
    "    y_train_relief['y'],\n",
    "    cv=5\n",
    ")\n",
    "\n",
    "print(\"%0.2f accuracy with a standard deviation of %0.2f\" % (\n",
    "    ripper_relief_scores.mean(),\n",
    "    ripper_relief_scores.std())\n",
    ")"
   ]
  },
  {
   "attachments": {},
   "cell_type": "markdown",
   "metadata": {},
   "source": [
    "### Out-of-sample score"
   ]
  },
  {
   "cell_type": "code",
   "execution_count": null,
   "metadata": {},
   "outputs": [],
   "source": [
    "ripper_relief = RIPPER()\n",
    "ripper_relief.fit(X_train_relief, y_train_relief['y'])\n",
    "y_test_predict_ripper_relief = ripper_relief.predict(X_test_relief)\n",
    "\n",
    "print(classification_report(y_test_relief['y'], y_test_predict_ripper_relief))"
   ]
  },
  {
   "attachments": {},
   "cell_type": "markdown",
   "metadata": {},
   "source": [
    "### Ruleset"
   ]
  },
  {
   "cell_type": "code",
   "execution_count": null,
   "metadata": {},
   "outputs": [],
   "source": [
    "ripper_relief.out_model()"
   ]
  },
  {
   "attachments": {},
   "cell_type": "markdown",
   "metadata": {},
   "source": [
    "## Wrapper"
   ]
  },
  {
   "attachments": {},
   "cell_type": "markdown",
   "metadata": {},
   "source": [
    "### Select features"
   ]
  },
  {
   "cell_type": "code",
   "execution_count": null,
   "metadata": {},
   "outputs": [],
   "source": [
    "if RUN_WRAPPER_SELECTION:\n",
    "    ripper_wrapper = RIPPER()\n",
    "\n",
    "    ripper_fs_wrapper = SequentialFeatureSelectorTransformer(\n",
    "        ripper_wrapper, n_features_to_select=75)\n",
    "\n",
    "    print('Fitting model. This may take a while...')\n",
    "    X_ripper_wrapper = ripper_fs_wrapper.fit_transform(X_all, y['y'])\n",
    "    print('We have a winner!')\n",
    "\n",
    "    X_train_ripper_wrapper, X_test_ripper_wrapper, y_train_ripper_wrapper, y_test_ripper_wrapper = split_train_test(X_ripper_wrapper, y)\n",
    "    X_ripper_wrapper.to_parquet(STAGE_DIR / 'selection' / 'X_train_ripper.parquet')"
   ]
  },
  {
   "attachments": {},
   "cell_type": "markdown",
   "metadata": {},
   "source": [
    "### Training and score in the sample (78% - 0.00 std)"
   ]
  },
  {
   "cell_type": "code",
   "execution_count": null,
   "metadata": {},
   "outputs": [],
   "source": [
    "if not RUN_WRAPPER_SELECTION:\n",
    "    X_ripper_wrapper = pd.read_parquet(STAGE_DIR / 'selection' / 'X_train_ripper.parquet')\n",
    "    X_train_ripper_wrapper, X_test_ripper_wrapper, y_train_ripper_wrapper, y_test_ripper_wrapper = split_train_test(X_ripper_wrapper, y)"
   ]
  },
  {
   "cell_type": "code",
   "execution_count": null,
   "metadata": {},
   "outputs": [],
   "source": [
    "ripper_wrapper = RIPPER()\n",
    "ripper_wrapper_scores = cross_val_score(\n",
    "    ripper_wrapper,\n",
    "    X_train_ripper_wrapper,\n",
    "    y_train_ripper_wrapper['y'],\n",
    "    cv=5\n",
    ")\n",
    "\n",
    "print(\"%0.2f accuracy with a standard deviation of %0.2f\" % (\n",
    "    ripper_wrapper_scores.mean(),\n",
    "    ripper_wrapper_scores.std())\n",
    ")"
   ]
  },
  {
   "attachments": {},
   "cell_type": "markdown",
   "metadata": {},
   "source": [
    "### Out-of-sample score"
   ]
  },
  {
   "cell_type": "code",
   "execution_count": null,
   "metadata": {},
   "outputs": [],
   "source": [
    "ripper_wrapper = RIPPER()\n",
    "ripper_wrapper.fit(X_train_ripper_wrapper, y_train_ripper_wrapper['y'])\n",
    "y_test_predict_ripper_wrapper = ripper_wrapper.predict(X_test_ripper_wrapper)\n",
    "\n",
    "print(classification_report(y_test_ripper_wrapper['y'], y_test_predict_ripper_wrapper))"
   ]
  },
  {
   "attachments": {},
   "cell_type": "markdown",
   "metadata": {},
   "source": [
    "### Ruleset"
   ]
  },
  {
   "cell_type": "code",
   "execution_count": null,
   "metadata": {},
   "outputs": [],
   "source": [
    "ripper_wrapper.out_model()"
   ]
  },
  {
   "attachments": {},
   "cell_type": "markdown",
   "metadata": {},
   "source": [
    "# K-Nearest Neighbors"
   ]
  },
  {
   "cell_type": "code",
   "execution_count": 167,
   "metadata": {},
   "outputs": [
    {
     "data": {
      "text/plain": [
       "Text(0, 0.5, 'Accuracy Score')"
      ]
     },
     "execution_count": 167,
     "metadata": {},
     "output_type": "execute_result"
    },
    {
     "data": {
      "image/png": "[encoded data removed]",
      "text/plain": [
       "<Figure size 640x480 with 1 Axes>"
      ]
     },
     "metadata": {},
     "output_type": "display_data"
    }
   ],
   "source": [
    "k_values = [i for i in range (1, 31)]\n",
    "scores = []\n",
    "\n",
    "for k in k_values:\n",
    "    knn = KNeighborsClassifier(n_neighbors=k)\n",
    "    score = cross_val_score(knn, X_all, y['y'], cv=5)\n",
    "    scores.append(np.mean(score))\n",
    "\n",
    "sns.lineplot(x=k_values, y=scores, marker='o')\n",
    "plt.xlabel('K Values')\n",
    "plt.ylabel('Accuracy Score')"
   ]
  },
  {
   "cell_type": "code",
   "execution_count": 170,
   "metadata": {},
   "outputs": [
    {
     "data": {
      "text/plain": [
       "18"
      ]
     },
     "execution_count": 170,
     "metadata": {},
     "output_type": "execute_result"
    }
   ],
   "source": [
    "k = np.argmax(scores)\n",
    "k"
   ]
  },
  {
   "attachments": {},
   "cell_type": "markdown",
   "metadata": {},
   "source": [
    "## All features"
   ]
  },
  {
   "attachments": {},
   "cell_type": "markdown",
   "metadata": {},
   "source": [
    "### Training and score in the sample (79% - 0.00 std)"
   ]
  },
  {
   "cell_type": "code",
   "execution_count": 152,
   "metadata": {},
   "outputs": [
    {
     "name": "stdout",
     "output_type": "stream",
     "text": [
      "0.79 accuracy with a standard deviation of 0.00\n"
     ]
    }
   ],
   "source": [
    "knn_all = KNeighborsClassifier(n_neighbors=k)\n",
    "knn_all_scores = cross_val_score(\n",
    "    knn_all,\n",
    "    X_train_all,\n",
    "    y_train_all['y'],\n",
    "    cv=5\n",
    ")\n",
    "\n",
    "print(\"%0.2f accuracy with a standard deviation of %0.2f\" % (\n",
    "    knn_all_scores.mean(),\n",
    "    knn_all_scores.std())\n",
    ")"
   ]
  },
  {
   "attachments": {},
   "cell_type": "markdown",
   "metadata": {},
   "source": [
    "### Out-of-sample score"
   ]
  },
  {
   "cell_type": "code",
   "execution_count": 149,
   "metadata": {},
   "outputs": [
    {
     "name": "stdout",
     "output_type": "stream",
     "text": [
      "              precision    recall  f1-score   support\n",
      "\n",
      "           0       0.78      0.98      0.87       569\n",
      "           1       0.58      0.11      0.18       178\n",
      "\n",
      "    accuracy                           0.77       747\n",
      "   macro avg       0.68      0.54      0.52       747\n",
      "weighted avg       0.73      0.77      0.70       747\n",
      "\n"
     ]
    }
   ],
   "source": [
    "knn_all = KNeighborsClassifier(n_neighbors=k)\n",
    "knn_all.fit(X_train_all, y_train_all['y'])\n",
    "y_test_predict_knn_all = knn_all.predict(X_test_all)\n",
    "\n",
    "print(classification_report(y_test_all['y'], y_test_predict_knn_all))"
   ]
  },
  {
   "attachments": {},
   "cell_type": "markdown",
   "metadata": {},
   "source": [
    "## Univariate - Mutual Information"
   ]
  },
  {
   "attachments": {},
   "cell_type": "markdown",
   "metadata": {},
   "source": [
    "### Training and score in the sample (77% - 0.00 std)"
   ]
  },
  {
   "cell_type": "code",
   "execution_count": 153,
   "metadata": {},
   "outputs": [
    {
     "name": "stdout",
     "output_type": "stream",
     "text": [
      "0.77 accuracy with a standard deviation of 0.00\n"
     ]
    }
   ],
   "source": [
    "knn_mi = KNeighborsClassifier(n_neighbors=k)\n",
    "knn_mi_scores = cross_val_score(\n",
    "    knn_mi,\n",
    "    X_train_mi,\n",
    "    y_train_mi['y'],\n",
    "    cv=5\n",
    ")\n",
    "\n",
    "print(\"%0.2f accuracy with a standard deviation of %0.2f\" % (\n",
    "    knn_mi_scores.mean(),\n",
    "    knn_mi_scores.std())\n",
    ")"
   ]
  },
  {
   "attachments": {},
   "cell_type": "markdown",
   "metadata": {},
   "source": [
    "### Out-of-sample score"
   ]
  },
  {
   "cell_type": "code",
   "execution_count": 154,
   "metadata": {},
   "outputs": [
    {
     "name": "stdout",
     "output_type": "stream",
     "text": [
      "              precision    recall  f1-score   support\n",
      "\n",
      "           0       0.81      0.96      0.88       594\n",
      "           1       0.42      0.11      0.18       153\n",
      "\n",
      "    accuracy                           0.79       747\n",
      "   macro avg       0.62      0.54      0.53       747\n",
      "weighted avg       0.73      0.79      0.73       747\n",
      "\n"
     ]
    }
   ],
   "source": [
    "knn_mi = KNeighborsClassifier(n_neighbors=k)\n",
    "knn_mi.fit(X_train_mi, y_train_mi['y'])\n",
    "y_test_predict_knn_mi = knn_mi.predict(X_test_mi)\n",
    "\n",
    "print(classification_report(y_test_mi['y'], y_test_predict_knn_mi))"
   ]
  },
  {
   "attachments": {},
   "cell_type": "markdown",
   "metadata": {},
   "source": [
    "## Univariate - $\\chi^2$"
   ]
  },
  {
   "attachments": {},
   "cell_type": "markdown",
   "metadata": {},
   "source": [
    "### Training and score in the sample (78% - 0.01 std)"
   ]
  },
  {
   "cell_type": "code",
   "execution_count": 155,
   "metadata": {},
   "outputs": [
    {
     "name": "stdout",
     "output_type": "stream",
     "text": [
      "0.78 accuracy with a standard deviation of 0.01\n"
     ]
    }
   ],
   "source": [
    "knn_x2 = KNeighborsClassifier(n_neighbors=k)\n",
    "knn_x2_scores = cross_val_score(\n",
    "    knn_x2,\n",
    "    X_train_x2,\n",
    "    y_train_x2['y'],\n",
    "    cv=5\n",
    ")\n",
    "\n",
    "print(\"%0.2f accuracy with a standard deviation of %0.2f\" % (\n",
    "    knn_x2_scores.mean(),\n",
    "    knn_x2_scores.std())\n",
    ")"
   ]
  },
  {
   "attachments": {},
   "cell_type": "markdown",
   "metadata": {},
   "source": [
    "### Out-of-sample score"
   ]
  },
  {
   "cell_type": "code",
   "execution_count": 156,
   "metadata": {},
   "outputs": [
    {
     "name": "stdout",
     "output_type": "stream",
     "text": [
      "              precision    recall  f1-score   support\n",
      "\n",
      "           0       0.80      0.96      0.87       581\n",
      "           1       0.52      0.14      0.23       166\n",
      "\n",
      "    accuracy                           0.78       747\n",
      "   macro avg       0.66      0.55      0.55       747\n",
      "weighted avg       0.74      0.78      0.73       747\n",
      "\n"
     ]
    }
   ],
   "source": [
    "knn_x2 = KNeighborsClassifier(n_neighbors=k)\n",
    "knn_x2.fit(X_train_x2, y_train_x2['y'])\n",
    "y_test_predict_knn_x2 = knn_x2.predict(X_test_x2)\n",
    "\n",
    "print(classification_report(y_test_x2['y'], y_test_predict_knn_x2))"
   ]
  },
  {
   "attachments": {},
   "cell_type": "markdown",
   "metadata": {},
   "source": [
    "## Univariate - ANOVA"
   ]
  },
  {
   "attachments": {},
   "cell_type": "markdown",
   "metadata": {},
   "source": [
    "### Training and score in the sample (78% - 0.01 std)"
   ]
  },
  {
   "cell_type": "code",
   "execution_count": 157,
   "metadata": {},
   "outputs": [
    {
     "name": "stdout",
     "output_type": "stream",
     "text": [
      "0.78 accuracy with a standard deviation of 0.01\n"
     ]
    }
   ],
   "source": [
    "knn_anova = KNeighborsClassifier(n_neighbors=k)\n",
    "knn_anova_scores = cross_val_score(\n",
    "    knn_anova,\n",
    "    X_train_anova,\n",
    "    y_train_anova['y'],\n",
    "    cv=5\n",
    ")\n",
    "\n",
    "print(\"%0.2f accuracy with a standard deviation of %0.2f\" % (\n",
    "    knn_anova_scores.mean(),\n",
    "    knn_anova_scores.std())\n",
    ")"
   ]
  },
  {
   "attachments": {},
   "cell_type": "markdown",
   "metadata": {},
   "source": [
    "### Out-of-sample score"
   ]
  },
  {
   "cell_type": "code",
   "execution_count": 158,
   "metadata": {},
   "outputs": [
    {
     "name": "stdout",
     "output_type": "stream",
     "text": [
      "              precision    recall  f1-score   support\n",
      "\n",
      "           0       0.78      0.98      0.87       570\n",
      "           1       0.60      0.08      0.15       177\n",
      "\n",
      "    accuracy                           0.77       747\n",
      "   macro avg       0.69      0.53      0.51       747\n",
      "weighted avg       0.73      0.77      0.70       747\n",
      "\n"
     ]
    }
   ],
   "source": [
    "knn_anova = KNeighborsClassifier(n_neighbors=k)\n",
    "knn_anova.fit(X_train_anova, y_train_anova['y'])\n",
    "y_test_predict_knn_anova = knn_anova.predict(X_test_anova)\n",
    "\n",
    "print(classification_report(y_test_anova['y'], y_test_predict_knn_anova))"
   ]
  },
  {
   "attachments": {},
   "cell_type": "markdown",
   "metadata": {},
   "source": [
    "## Multivariate - Relief"
   ]
  },
  {
   "attachments": {},
   "cell_type": "markdown",
   "metadata": {},
   "source": [
    "### Training and score in the sample (77% - 0.01 std)"
   ]
  },
  {
   "cell_type": "code",
   "execution_count": 159,
   "metadata": {},
   "outputs": [
    {
     "name": "stdout",
     "output_type": "stream",
     "text": [
      "0.77 accuracy with a standard deviation of 0.01\n"
     ]
    }
   ],
   "source": [
    "knn_relief = KNeighborsClassifier(n_neighbors=k)\n",
    "knn_relief_scores = cross_val_score(\n",
    "    knn_relief,\n",
    "    X_train_relief,\n",
    "    y_train_relief['y'],\n",
    "    cv=5\n",
    ")\n",
    "\n",
    "print(\"%0.2f accuracy with a standard deviation of %0.2f\" % (\n",
    "    knn_relief_scores.mean(),\n",
    "    knn_relief_scores.std())\n",
    ")"
   ]
  },
  {
   "attachments": {},
   "cell_type": "markdown",
   "metadata": {},
   "source": [
    "### Out-of-sample score"
   ]
  },
  {
   "cell_type": "code",
   "execution_count": 160,
   "metadata": {},
   "outputs": [
    {
     "name": "stdout",
     "output_type": "stream",
     "text": [
      "              precision    recall  f1-score   support\n",
      "\n",
      "           0       0.81      0.96      0.88       596\n",
      "           1       0.47      0.13      0.21       151\n",
      "\n",
      "    accuracy                           0.79       747\n",
      "   macro avg       0.64      0.55      0.54       747\n",
      "weighted avg       0.74      0.79      0.75       747\n",
      "\n"
     ]
    }
   ],
   "source": [
    "knn_relief = KNeighborsClassifier(n_neighbors=k)\n",
    "knn_relief.fit(X_train_relief, y_train_relief['y'])\n",
    "y_test_predict_knn_relief = knn_relief.predict(X_test_relief)\n",
    "\n",
    "print(classification_report(y_test_relief['y'], y_test_predict_knn_relief))"
   ]
  },
  {
   "attachments": {},
   "cell_type": "markdown",
   "metadata": {},
   "source": [
    "## Wrapper"
   ]
  },
  {
   "attachments": {},
   "cell_type": "markdown",
   "metadata": {},
   "source": [
    "### Select features"
   ]
  },
  {
   "cell_type": "code",
   "execution_count": null,
   "metadata": {},
   "outputs": [],
   "source": [
    "if RUN_WRAPPER_SELECTION:\n",
    "    knn_wrapper = KNeighborsClassifier(n_neighbors=k)\n",
    "\n",
    "    knn_fs_wrapper = SequentialFeatureSelectorTransformer(\n",
    "        knn_wrapper, n_features_to_select=75)\n",
    "\n",
    "    print('Fitting model. This may take a while...')\n",
    "    X_knn_wrapper = knn_fs_wrapper.fit_transform(X_all, y['y'])\n",
    "    print('We have a winner!')\n",
    "\n",
    "    X_train_knn_wrapper, X_test_knn_wrapper, y_train_knn_wrapper, y_test_knn_wrapper = split_train_test(X_knn_wrapper, y)\n",
    "    X_knn_wrapper.to_parquet(STAGE_DIR / 'selection' / 'X_train_knn.parquet')"
   ]
  },
  {
   "attachments": {},
   "cell_type": "markdown",
   "metadata": {},
   "source": [
    "### Training and score in the sample (80% - 0.01 std)"
   ]
  },
  {
   "cell_type": "code",
   "execution_count": 161,
   "metadata": {},
   "outputs": [],
   "source": [
    "if not RUN_WRAPPER_SELECTION:\n",
    "    X_knn_wrapper = pd.read_parquet(STAGE_DIR / 'selection' / 'X_train_knn.parquet')\n",
    "    X_train_knn_wrapper, X_test_knn_wrapper, y_train_knn_wrapper, y_test_knn_wrapper = split_train_test(X_knn_wrapper, y)"
   ]
  },
  {
   "cell_type": "code",
   "execution_count": 162,
   "metadata": {},
   "outputs": [
    {
     "name": "stdout",
     "output_type": "stream",
     "text": [
      "0.80 accuracy with a standard deviation of 0.01\n"
     ]
    }
   ],
   "source": [
    "knn_wrapper = KNeighborsClassifier(n_neighbors=k)\n",
    "knn_wrapper_scores = cross_val_score(\n",
    "    knn_wrapper,\n",
    "    X_train_knn_wrapper,\n",
    "    y_train_knn_wrapper['y'],\n",
    "    cv=5\n",
    ")\n",
    "\n",
    "print(\"%0.2f accuracy with a standard deviation of %0.2f\" % (\n",
    "    knn_wrapper_scores.mean(),\n",
    "    knn_wrapper_scores.std())\n",
    ")"
   ]
  },
  {
   "attachments": {},
   "cell_type": "markdown",
   "metadata": {},
   "source": [
    "### Out-of-sample score"
   ]
  },
  {
   "cell_type": "code",
   "execution_count": 164,
   "metadata": {},
   "outputs": [
    {
     "name": "stdout",
     "output_type": "stream",
     "text": [
      "              precision    recall  f1-score   support\n",
      "\n",
      "           0       0.79      0.98      0.87       566\n",
      "           1       0.75      0.18      0.29       181\n",
      "\n",
      "    accuracy                           0.79       747\n",
      "   macro avg       0.77      0.58      0.58       747\n",
      "weighted avg       0.78      0.79      0.73       747\n",
      "\n"
     ]
    }
   ],
   "source": [
    "knn_wrapper = KNeighborsClassifier(n_neighbors=k)\n",
    "knn_wrapper.fit(X_train_knn_wrapper, y_train_knn_wrapper['y'])\n",
    "y_test_predict_knn_wrapper = knn_wrapper.predict(X_test_knn_wrapper)\n",
    "\n",
    "print(classification_report(y_test_knn_wrapper['y'], y_test_predict_knn_wrapper))"
   ]
  }
 ],
 "metadata": {
  "kernelspec": {
   "display_name": "project-ml",
   "language": "python",
   "name": "python3"
  },
  "language_info": {
   "codemirror_mode": {
    "name": "ipython",
    "version": 3
   },
   "file_extension": ".py",
   "mimetype": "text/x-python",
   "name": "python",
   "nbconvert_exporter": "python",
   "pygments_lexer": "ipython3",
   "version": "3.10.8"
  },
  "orig_nbformat": 4,
  "vscode": {
   "interpreter": {
    "hash": "2e383f59990fe3d22651a4ad07083daaaf731c9d2ac6275b8fedb86f5101aa90"
   }
  }
 },
 "nbformat": 4,
 "nbformat_minor": 2
}
