{
 "cells": [
  {
   "cell_type": "code",
   "execution_count": 1,
   "metadata": {},
   "outputs": [],
   "source": [
    "%load_ext autoreload\n",
    "%autoreload 2"
   ]
  },
  {
   "cell_type": "code",
   "execution_count": 2,
   "metadata": {},
   "outputs": [],
   "source": [
    "import pandas as pd\n",
    "import numpy as np\n",
    "import matplotlib.pyplot as plt\n",
    "import seaborn as sns\n",
    "\n",
    "# models\n",
    "from sklearn.discriminant_analysis import QuadraticDiscriminantAnalysis\n",
    "from sklearn.linear_model import LogisticRegression\n",
    "from sklearn.naive_bayes import GaussianNB\n",
    "from sklearn.ensemble import BaggingClassifier\n",
    "\n",
    "from sklearn.model_selection import cross_val_score\n",
    "from sklearn.metrics import classification_report\n",
    "\n",
    "\n",
    "from utils.constants import STAGE_DIR, ANALYSIS_DIR\n",
    "from utils.dataload import load_data\n",
    "from utils.functions import split_train_test\n",
    "from utils.transformers import SequentialFeatureSelectorTransformer"
   ]
  },
  {
   "attachments": {},
   "cell_type": "markdown",
   "metadata": {},
   "source": [
    "# Configuration"
   ]
  },
  {
   "cell_type": "code",
   "execution_count": 21,
   "metadata": {},
   "outputs": [],
   "source": [
    "RUN_WRAPPER_SELECTION = False"
   ]
  },
  {
   "attachments": {},
   "cell_type": "markdown",
   "metadata": {},
   "source": [
    "# Load data"
   ]
  },
  {
   "cell_type": "code",
   "execution_count": 4,
   "metadata": {},
   "outputs": [],
   "source": [
    "# Load all dataset\n",
    "X_all = load_data(\n",
    "    STAGE_DIR / 'preprocess' / 'X_train.parquet',\n",
    "    load_func=pd.read_parquet).sort_index()\n",
    "\n",
    "# Load selected dataset using univariate analysis\n",
    "X_mi = load_data(\n",
    "    STAGE_DIR / 'selection' / 'X_train_mi.parquet',\n",
    "    load_func=pd.read_parquet).sort_index()\n",
    "\n",
    "X_x2 = load_data(\n",
    "    STAGE_DIR / 'selection' / 'X_train_x2.parquet',\n",
    "    load_func=pd.read_parquet).sort_index()\n",
    "\n",
    "X_anova = load_data(\n",
    "    STAGE_DIR / 'selection' / 'X_train_anova.parquet',\n",
    "    load_func=pd.read_parquet).sort_index()\n",
    "\n",
    "# Load selected dataset using multivariate analysis\n",
    "X_relief = load_data(\n",
    "    STAGE_DIR / 'selection' / 'X_train_relief.parquet',\n",
    "    load_func=pd.read_parquet).sort_index()"
   ]
  },
  {
   "cell_type": "code",
   "execution_count": 5,
   "metadata": {},
   "outputs": [],
   "source": [
    "y = load_data(\n",
    "    STAGE_DIR / 'preprocess' / 'y.parquet',\n",
    "    load_func=pd.read_parquet).sort_index()"
   ]
  },
  {
   "cell_type": "code",
   "execution_count": 6,
   "metadata": {},
   "outputs": [],
   "source": [
    "X_train_all, X_test_all, y_train_all, y_test_all = split_train_test(X_all, y)\n",
    "X_train_mi, X_test_mi, y_train_mi, y_test_mi = split_train_test(X_mi, y)\n",
    "X_train_x2, X_test_x2, y_train_x2, y_test_x2 = split_train_test(X_x2, y)\n",
    "X_train_anova, X_test_anova, y_train_anova, y_test_anova = split_train_test(X_anova, y)\n",
    "X_train_relief, X_test_relief, y_train_relief, y_test_relief = split_train_test(X_relief, y)"
   ]
  },
  {
   "attachments": {},
   "cell_type": "markdown",
   "metadata": {},
   "source": [
    "# Logistic Regression"
   ]
  },
  {
   "cell_type": "code",
   "execution_count": 9,
   "metadata": {},
   "outputs": [],
   "source": [
    "lr_parameters = {\n",
    "    'max_iter': 1000\n",
    "}"
   ]
  },
  {
   "attachments": {},
   "cell_type": "markdown",
   "metadata": {},
   "source": [
    "## All features"
   ]
  },
  {
   "attachments": {},
   "cell_type": "markdown",
   "metadata": {},
   "source": [
    "### Training and score in the sample (81% - 0.01 std)"
   ]
  },
  {
   "cell_type": "code",
   "execution_count": 10,
   "metadata": {},
   "outputs": [
    {
     "name": "stdout",
     "output_type": "stream",
     "text": [
      "0.81 accuracy with a standard deviation of 0.01\n"
     ]
    }
   ],
   "source": [
    "lr_all = LogisticRegression(**lr_parameters)\n",
    "lr_all_scores = cross_val_score(\n",
    "    lr_all,\n",
    "    X_train_all,\n",
    "    y_train_all['y'],\n",
    "    cv=5\n",
    ")\n",
    "\n",
    "print(\"%0.2f accuracy with a standard deviation of %0.2f\" % (\n",
    "    lr_all_scores.mean(),\n",
    "    lr_all_scores.std())\n",
    ")"
   ]
  },
  {
   "attachments": {},
   "cell_type": "markdown",
   "metadata": {},
   "source": [
    "### Out-of-sample score"
   ]
  },
  {
   "cell_type": "code",
   "execution_count": 11,
   "metadata": {},
   "outputs": [
    {
     "name": "stdout",
     "output_type": "stream",
     "text": [
      "              precision    recall  f1-score   support\n",
      "\n",
      "           0       0.84      0.94      0.89       577\n",
      "           1       0.68      0.39      0.50       170\n",
      "\n",
      "    accuracy                           0.82       747\n",
      "   macro avg       0.76      0.67      0.69       747\n",
      "weighted avg       0.80      0.82      0.80       747\n",
      "\n"
     ]
    }
   ],
   "source": [
    "lr_all = LogisticRegression(\n",
    "    **lr_parameters\n",
    ").fit(X_train_all, y_train_all['y'])\n",
    "y_test_predict_all = lr_all.predict(X_test_all)\n",
    "\n",
    "print(classification_report(y_test_all['y'], y_test_predict_all))"
   ]
  },
  {
   "attachments": {},
   "cell_type": "markdown",
   "metadata": {},
   "source": [
    "## Univariate - Mutual Information"
   ]
  },
  {
   "attachments": {},
   "cell_type": "markdown",
   "metadata": {},
   "source": [
    "### Training and score in the sample (81% - 0.01 std)"
   ]
  },
  {
   "cell_type": "code",
   "execution_count": 12,
   "metadata": {},
   "outputs": [
    {
     "name": "stdout",
     "output_type": "stream",
     "text": [
      "0.81 accuracy with a standard deviation of 0.01\n"
     ]
    }
   ],
   "source": [
    "lr_mi = LogisticRegression(**lr_parameters)\n",
    "lr_mi_scores = cross_val_score(\n",
    "    lr_mi,\n",
    "    X_train_mi,\n",
    "    y_train_mi['y'],\n",
    "    cv=5\n",
    ")\n",
    "\n",
    "print(\"%0.2f accuracy with a standard deviation of %0.2f\" % (\n",
    "    lr_mi_scores.mean(),\n",
    "    lr_mi_scores.std())\n",
    ")"
   ]
  },
  {
   "attachments": {},
   "cell_type": "markdown",
   "metadata": {},
   "source": [
    "### Out-of-sample score"
   ]
  },
  {
   "cell_type": "code",
   "execution_count": 13,
   "metadata": {},
   "outputs": [
    {
     "name": "stdout",
     "output_type": "stream",
     "text": [
      "              precision    recall  f1-score   support\n",
      "\n",
      "           0       0.83      0.92      0.88       582\n",
      "           1       0.56      0.36      0.44       165\n",
      "\n",
      "    accuracy                           0.80       747\n",
      "   macro avg       0.70      0.64      0.66       747\n",
      "weighted avg       0.77      0.80      0.78       747\n",
      "\n"
     ]
    }
   ],
   "source": [
    "lr_mi = LogisticRegression(\n",
    "    **lr_parameters\n",
    ").fit(X_train_mi, y_train_mi['y'])\n",
    "y_test_predict_mi = lr_mi.predict(X_test_mi)\n",
    "\n",
    "print(classification_report(y_test_mi['y'], y_test_predict_mi))"
   ]
  },
  {
   "attachments": {},
   "cell_type": "markdown",
   "metadata": {},
   "source": [
    "## Univariate - $\\chi^2$"
   ]
  },
  {
   "attachments": {},
   "cell_type": "markdown",
   "metadata": {},
   "source": [
    "### Training and score in the sample (79% - 0.01 std)"
   ]
  },
  {
   "cell_type": "code",
   "execution_count": 14,
   "metadata": {},
   "outputs": [
    {
     "name": "stdout",
     "output_type": "stream",
     "text": [
      "0.79 accuracy with a standard deviation of 0.01\n"
     ]
    }
   ],
   "source": [
    "lr_x2 = LogisticRegression(**lr_parameters)\n",
    "lr_x2_scores = cross_val_score(\n",
    "    lr_x2,\n",
    "    X_train_x2,\n",
    "    y_train_x2['y'],\n",
    "    cv=5\n",
    ")\n",
    "\n",
    "print(\"%0.2f accuracy with a standard deviation of %0.2f\" % (\n",
    "    lr_x2_scores.mean(),\n",
    "    lr_x2_scores.std())\n",
    ")"
   ]
  },
  {
   "attachments": {},
   "cell_type": "markdown",
   "metadata": {},
   "source": [
    "### Out-of-sample score"
   ]
  },
  {
   "cell_type": "code",
   "execution_count": 15,
   "metadata": {},
   "outputs": [
    {
     "name": "stdout",
     "output_type": "stream",
     "text": [
      "              precision    recall  f1-score   support\n",
      "\n",
      "           0       0.83      0.93      0.88       588\n",
      "           1       0.52      0.28      0.37       159\n",
      "\n",
      "    accuracy                           0.79       747\n",
      "   macro avg       0.68      0.61      0.62       747\n",
      "weighted avg       0.76      0.79      0.77       747\n",
      "\n"
     ]
    }
   ],
   "source": [
    "lr_x2 = LogisticRegression(\n",
    "    **lr_parameters\n",
    ").fit(X_train_x2, y_train_x2['y'])\n",
    "y_test_predict_x2 = lr_x2.predict(X_test_x2)\n",
    "\n",
    "print(classification_report(y_test_x2['y'], y_test_predict_x2))"
   ]
  },
  {
   "attachments": {},
   "cell_type": "markdown",
   "metadata": {},
   "source": [
    "## Univariate - ANOVA"
   ]
  },
  {
   "attachments": {},
   "cell_type": "markdown",
   "metadata": {},
   "source": [
    "### Training and score in the sample (81% - 0.01 std)"
   ]
  },
  {
   "cell_type": "code",
   "execution_count": 16,
   "metadata": {},
   "outputs": [
    {
     "name": "stdout",
     "output_type": "stream",
     "text": [
      "0.81 accuracy with a standard deviation of 0.01\n"
     ]
    }
   ],
   "source": [
    "lr_anova = LogisticRegression(**lr_parameters)\n",
    "lr_anova_scores = cross_val_score(\n",
    "    lr_anova,\n",
    "    X_train_anova,\n",
    "    y_train_anova['y'],\n",
    "    cv=5\n",
    ")\n",
    "\n",
    "print(\"%0.2f accuracy with a standard deviation of %0.2f\" % (\n",
    "    lr_anova_scores.mean(),\n",
    "    lr_anova_scores.std())\n",
    ")"
   ]
  },
  {
   "attachments": {},
   "cell_type": "markdown",
   "metadata": {},
   "source": [
    "### Out-of-sample score"
   ]
  },
  {
   "cell_type": "code",
   "execution_count": 17,
   "metadata": {},
   "outputs": [
    {
     "name": "stdout",
     "output_type": "stream",
     "text": [
      "              precision    recall  f1-score   support\n",
      "\n",
      "           0       0.85      0.92      0.89       598\n",
      "           1       0.53      0.37      0.44       149\n",
      "\n",
      "    accuracy                           0.81       747\n",
      "   macro avg       0.69      0.64      0.66       747\n",
      "weighted avg       0.79      0.81      0.80       747\n",
      "\n"
     ]
    }
   ],
   "source": [
    "lr_anova = LogisticRegression(\n",
    "    **lr_parameters\n",
    ").fit(X_train_anova, y_train_anova['y'])\n",
    "y_test_predict_anova = lr_anova.predict(X_test_anova)\n",
    "\n",
    "print(classification_report(y_test_anova['y'], y_test_predict_anova))"
   ]
  },
  {
   "attachments": {},
   "cell_type": "markdown",
   "metadata": {},
   "source": [
    "## Multivariate - Relief"
   ]
  },
  {
   "attachments": {},
   "cell_type": "markdown",
   "metadata": {},
   "source": [
    "### Training and score in the sample (79% - 0.02 std)"
   ]
  },
  {
   "cell_type": "code",
   "execution_count": 18,
   "metadata": {},
   "outputs": [
    {
     "name": "stdout",
     "output_type": "stream",
     "text": [
      "0.79 accuracy with a standard deviation of 0.02\n"
     ]
    }
   ],
   "source": [
    "lr_relief = LogisticRegression(**lr_parameters)\n",
    "lr_relief_scores = cross_val_score(\n",
    "    lr_relief,\n",
    "    X_train_relief,\n",
    "    y_train_relief['y'],\n",
    "    cv=5\n",
    ")\n",
    "\n",
    "print(\"%0.2f accuracy with a standard deviation of %0.2f\" % (\n",
    "    lr_relief_scores.mean(),\n",
    "    lr_relief_scores.std())\n",
    ")"
   ]
  },
  {
   "attachments": {},
   "cell_type": "markdown",
   "metadata": {},
   "source": [
    "### Out-of-sample score"
   ]
  },
  {
   "cell_type": "code",
   "execution_count": 19,
   "metadata": {},
   "outputs": [
    {
     "name": "stdout",
     "output_type": "stream",
     "text": [
      "              precision    recall  f1-score   support\n",
      "\n",
      "           0       0.81      0.94      0.87       569\n",
      "           1       0.62      0.29      0.40       178\n",
      "\n",
      "    accuracy                           0.79       747\n",
      "   macro avg       0.71      0.62      0.63       747\n",
      "weighted avg       0.76      0.79      0.76       747\n",
      "\n"
     ]
    }
   ],
   "source": [
    "lr_relief = LogisticRegression(\n",
    "    **lr_parameters\n",
    ").fit(X_train_relief, y_train_relief['y'])\n",
    "y_test_predict_relief = lr_relief.predict(X_test_relief)\n",
    "\n",
    "print(classification_report(y_test_relief['y'], y_test_predict_relief))"
   ]
  },
  {
   "attachments": {},
   "cell_type": "markdown",
   "metadata": {},
   "source": [
    "## Wrapper"
   ]
  },
  {
   "attachments": {},
   "cell_type": "markdown",
   "metadata": {},
   "source": [
    "### Select features"
   ]
  },
  {
   "cell_type": "code",
   "execution_count": 22,
   "metadata": {},
   "outputs": [
    {
     "name": "stdout",
     "output_type": "stream",
     "text": [
      "Fitting model. This may take a while...\n",
      "We have a winner!\n"
     ]
    }
   ],
   "source": [
    "if RUN_WRAPPER_SELECTION:\n",
    "    lr_wrapper = LogisticRegression(**lr_parameters)\n",
    "\n",
    "    lr_fs_wrapper = SequentialFeatureSelectorTransformer(\n",
    "        lr_wrapper, n_features_to_select=75)\n",
    "\n",
    "    print('Fitting model. This may take a while...')\n",
    "    X_lr_wrapper = lr_fs_wrapper.fit_transform(X_all, y['y'])\n",
    "    print('We have a winner!')\n",
    "\n",
    "    X_train_lr_wrapper, X_test_lr_wrapper, y_train_lr_wrapper, y_test_lr_wrapper = split_train_test(X_lr_wrapper, y)\n",
    "\n",
    "    X_lr_wrapper.to_parquet(STAGE_DIR / 'selection' / 'X_train_lr.parquet')"
   ]
  },
  {
   "attachments": {},
   "cell_type": "markdown",
   "metadata": {},
   "source": [
    "### Training and score in the sample (81% - 0.01 std)"
   ]
  },
  {
   "cell_type": "code",
   "execution_count": null,
   "metadata": {},
   "outputs": [],
   "source": [
    "if not RUN_WRAPPER_SELECTION:\n",
    "    X_lr_wrapper = pd.read_parquet(STAGE_DIR / 'selection' / 'X_train_lr.parquet')\n",
    "    X_train_lr_wrapper, X_test_lr_wrapper, y_train_lr_wrapper, y_test_lr_wrapper = split_train_test(X_lr_wrapper, y)"
   ]
  },
  {
   "cell_type": "code",
   "execution_count": 24,
   "metadata": {},
   "outputs": [
    {
     "name": "stdout",
     "output_type": "stream",
     "text": [
      "0.81 accuracy with a standard deviation of 0.01\n"
     ]
    }
   ],
   "source": [
    "lr_wrapper = LogisticRegression(**lr_parameters)\n",
    "lr_wrapper_scores = cross_val_score(\n",
    "    lr_wrapper,\n",
    "    X_train_lr_wrapper,\n",
    "    y_train_lr_wrapper['y'],\n",
    "    cv=5\n",
    ")\n",
    "\n",
    "print(\"%0.2f accuracy with a standard deviation of %0.2f\" % (\n",
    "    lr_wrapper_scores.mean(),\n",
    "    lr_wrapper_scores.std())\n",
    ")"
   ]
  },
  {
   "attachments": {},
   "cell_type": "markdown",
   "metadata": {},
   "source": [
    "### Out-of-sample score"
   ]
  },
  {
   "cell_type": "code",
   "execution_count": 25,
   "metadata": {},
   "outputs": [
    {
     "name": "stdout",
     "output_type": "stream",
     "text": [
      "              precision    recall  f1-score   support\n",
      "\n",
      "           0       0.82      0.95      0.88       581\n",
      "           1       0.61      0.25      0.36       166\n",
      "\n",
      "    accuracy                           0.80       747\n",
      "   macro avg       0.71      0.60      0.62       747\n",
      "weighted avg       0.77      0.80      0.76       747\n",
      "\n"
     ]
    }
   ],
   "source": [
    "lr_wrapper = LogisticRegression().fit(X_train_lr_wrapper, y_train_lr_wrapper['y'])\n",
    "y_test_predict_lr_wrapper = lr_wrapper.predict(X_test_lr_wrapper)\n",
    "\n",
    "print(classification_report(y_test_lr_wrapper['y'], y_test_predict_lr_wrapper))"
   ]
  },
  {
   "attachments": {},
   "cell_type": "markdown",
   "metadata": {},
   "source": [
    "## Metaclassifier - Bagging"
   ]
  },
  {
   "attachments": {},
   "cell_type": "markdown",
   "metadata": {},
   "source": [
    "### Training and score in the sample (81% - 0.01 std)"
   ]
  },
  {
   "cell_type": "code",
   "execution_count": 31,
   "metadata": {},
   "outputs": [
    {
     "name": "stdout",
     "output_type": "stream",
     "text": [
      "0.81 accuracy with a standard deviation of 0.01\n"
     ]
    }
   ],
   "source": [
    "lr_bagging = BaggingClassifier(\n",
    "    LogisticRegression(**lr_parameters)\n",
    ")\n",
    "lr_bagging_scores = cross_val_score(\n",
    "    lr_bagging,\n",
    "    X_train_all,\n",
    "    y_train_all['y'],\n",
    "    cv=5\n",
    ")\n",
    "\n",
    "print(\"%0.2f accuracy with a standard deviation of %0.2f\" % (\n",
    "    lr_bagging_scores.mean(),\n",
    "    lr_bagging_scores.std())\n",
    ")"
   ]
  },
  {
   "attachments": {},
   "cell_type": "markdown",
   "metadata": {},
   "source": [
    "### Out-of-sample score"
   ]
  },
  {
   "cell_type": "code",
   "execution_count": 30,
   "metadata": {},
   "outputs": [
    {
     "name": "stdout",
     "output_type": "stream",
     "text": [
      "              precision    recall  f1-score   support\n",
      "\n",
      "           0       0.85      0.93      0.89       577\n",
      "           1       0.65      0.43      0.52       170\n",
      "\n",
      "    accuracy                           0.82       747\n",
      "   macro avg       0.75      0.68      0.70       747\n",
      "weighted avg       0.80      0.82      0.80       747\n",
      "\n"
     ]
    }
   ],
   "source": [
    "lr_bagging = BaggingClassifier(\n",
    "    LogisticRegression(**lr_parameters)\n",
    ").fit(X_train_all, y_train_all['y'])\n",
    "y_test_predict_lr_bagging = lr_bagging.predict(X_test_all)\n",
    "\n",
    "print(classification_report(y_test_all['y'], y_test_predict_lr_bagging))"
   ]
  },
  {
   "attachments": {},
   "cell_type": "markdown",
   "metadata": {},
   "source": [
    "# Bayes Models"
   ]
  },
  {
   "attachments": {},
   "cell_type": "markdown",
   "metadata": {},
   "source": [
    "# Discriminant Analysis"
   ]
  }
 ],
 "metadata": {
  "kernelspec": {
   "display_name": "project-ml",
   "language": "python",
   "name": "python3"
  },
  "language_info": {
   "codemirror_mode": {
    "name": "ipython",
    "version": 3
   },
   "file_extension": ".py",
   "mimetype": "text/x-python",
   "name": "python",
   "nbconvert_exporter": "python",
   "pygments_lexer": "ipython3",
   "version": "3.10.8"
  },
  "orig_nbformat": 4
 },
 "nbformat": 4,
 "nbformat_minor": 2
}
